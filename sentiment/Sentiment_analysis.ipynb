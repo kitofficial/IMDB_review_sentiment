{
 "cells": [
  {
   "cell_type": "markdown",
   "metadata": {
    "colab_type": "text",
    "id": "Zv5ZVLoMu2qv"
   },
   "source": [
    "#** IMDB Dataset of 50K Movie Reviews bold text**\n",
    "IMDB dataset having 50K movie reviews for natural language processing .This is a dataset for binary sentiment classification containing substantially more data than previous benchmark datasets. "
   ]
  },
  {
   "cell_type": "markdown",
   "metadata": {
    "colab_type": "text",
    "id": "T7nBSJ6Su4q0"
   },
   "source": [
    "# **IMPORTING DATA**"
   ]
  },
  {
   "cell_type": "code",
   "execution_count": 2,
   "metadata": {
    "colab": {
     "base_uri": "https://localhost:8080/",
     "height": 73,
     "resources": {
      "http://localhost:8080/nbextensions/google.colab/files.js": {
       "data": "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",
       "headers": [
        [
         "content-type",
         "application/javascript"
        ]
       ],
       "ok": true,
       "status": 200,
       "status_text": ""
      }
     }
    },
    "colab_type": "code",
    "id": "J1SPy0TxhVrM",
    "outputId": "a0c5857a-aee1-4cc6-8b11-7d212685f1b3"
   },
   "outputs": [
    {
     "data": {
      "text/html": [
       "\n",
       "     <input type=\"file\" id=\"files-ca52f68f-cf7f-4ee9-90c6-2239add85a48\" name=\"files[]\" multiple disabled\n",
       "        style=\"border:none\" />\n",
       "     <output id=\"result-ca52f68f-cf7f-4ee9-90c6-2239add85a48\">\n",
       "      Upload widget is only available when the cell has been executed in the\n",
       "      current browser session. Please rerun this cell to enable.\n",
       "      </output>\n",
       "      <script src=\"/nbextensions/google.colab/files.js\"></script> "
      ],
      "text/plain": [
       "<IPython.core.display.HTML object>"
      ]
     },
     "metadata": {
      "tags": []
     },
     "output_type": "display_data"
    },
    {
     "name": "stdout",
     "output_type": "stream",
     "text": [
      "Saving IMDB Dataset.csv to IMDB Dataset.csv\n"
     ]
    }
   ],
   "source": [
    "from google.colab import files\n",
    "uploaded = files.upload()"
   ]
  },
  {
   "cell_type": "code",
   "execution_count": 3,
   "metadata": {
    "colab": {
     "base_uri": "https://localhost:8080/",
     "height": 195
    },
    "colab_type": "code",
    "id": "bMwoKE0rvhbr",
    "outputId": "a937b072-1af2-4d18-b5d8-d7a6f37169f2"
   },
   "outputs": [
    {
     "data": {
      "text/html": [
       "<div>\n",
       "<style scoped>\n",
       "    .dataframe tbody tr th:only-of-type {\n",
       "        vertical-align: middle;\n",
       "    }\n",
       "\n",
       "    .dataframe tbody tr th {\n",
       "        vertical-align: top;\n",
       "    }\n",
       "\n",
       "    .dataframe thead th {\n",
       "        text-align: right;\n",
       "    }\n",
       "</style>\n",
       "<table border=\"1\" class=\"dataframe\">\n",
       "  <thead>\n",
       "    <tr style=\"text-align: right;\">\n",
       "      <th></th>\n",
       "      <th>review</th>\n",
       "      <th>sentiment</th>\n",
       "    </tr>\n",
       "  </thead>\n",
       "  <tbody>\n",
       "    <tr>\n",
       "      <th>0</th>\n",
       "      <td>One of the other reviewers has mentioned that ...</td>\n",
       "      <td>positive</td>\n",
       "    </tr>\n",
       "    <tr>\n",
       "      <th>1</th>\n",
       "      <td>A wonderful little production. &lt;br /&gt;&lt;br /&gt;The...</td>\n",
       "      <td>positive</td>\n",
       "    </tr>\n",
       "    <tr>\n",
       "      <th>2</th>\n",
       "      <td>I thought this was a wonderful way to spend ti...</td>\n",
       "      <td>positive</td>\n",
       "    </tr>\n",
       "    <tr>\n",
       "      <th>3</th>\n",
       "      <td>Basically there's a family where a little boy ...</td>\n",
       "      <td>negative</td>\n",
       "    </tr>\n",
       "    <tr>\n",
       "      <th>4</th>\n",
       "      <td>Petter Mattei's \"Love in the Time of Money\" is...</td>\n",
       "      <td>positive</td>\n",
       "    </tr>\n",
       "  </tbody>\n",
       "</table>\n",
       "</div>"
      ],
      "text/plain": [
       "                                              review sentiment\n",
       "0  One of the other reviewers has mentioned that ...  positive\n",
       "1  A wonderful little production. <br /><br />The...  positive\n",
       "2  I thought this was a wonderful way to spend ti...  positive\n",
       "3  Basically there's a family where a little boy ...  negative\n",
       "4  Petter Mattei's \"Love in the Time of Money\" is...  positive"
      ]
     },
     "execution_count": 3,
     "metadata": {
      "tags": []
     },
     "output_type": "execute_result"
    }
   ],
   "source": [
    "import pandas as pd\n",
    "data = pd.read_csv('IMDB Dataset.csv')\n",
    "data.head()"
   ]
  },
  {
   "cell_type": "markdown",
   "metadata": {
    "colab_type": "text",
    "id": "RiXX1gQC0eD5"
   },
   "source": [
    "# Exploratory data analysis"
   ]
  },
  {
   "cell_type": "code",
   "execution_count": 4,
   "metadata": {
    "colab": {
     "base_uri": "https://localhost:8080/",
     "height": 67
    },
    "colab_type": "code",
    "id": "zlwUzi8f0FlL",
    "outputId": "28fa05ab-c13f-46f4-dda5-1fdbacbff0f5"
   },
   "outputs": [
    {
     "data": {
      "text/plain": [
       "negative    25000\n",
       "positive    25000\n",
       "Name: sentiment, dtype: int64"
      ]
     },
     "execution_count": 4,
     "metadata": {
      "tags": []
     },
     "output_type": "execute_result"
    }
   ],
   "source": [
    "#Sentiment count\n",
    "data['sentiment'].value_counts()"
   ]
  },
  {
   "cell_type": "code",
   "execution_count": 5,
   "metadata": {
    "colab": {
     "base_uri": "https://localhost:8080/",
     "height": 390
    },
    "colab_type": "code",
    "id": "OwnlWIwV0xKn",
    "outputId": "ce8d73e2-9f6c-4105-e11e-bc7075f810c2"
   },
   "outputs": [
    {
     "name": "stderr",
     "output_type": "stream",
     "text": [
      "/usr/local/lib/python3.6/dist-packages/statsmodels/tools/_testing.py:19: FutureWarning: pandas.util.testing is deprecated. Use the functions in the public API at pandas.testing instead.\n",
      "  import pandas.util.testing as tm\n"
     ]
    },
    {
     "data": {
      "image/png": "[encoded data removed]",
      "text/plain": [
       "<Figure size 288x360 with 1 Axes>"
      ]
     },
     "metadata": {
      "tags": []
     },
     "output_type": "display_data"
    }
   ],
   "source": [
    "# Plotting number of reviews in each sentiments \n",
    "import seaborn as sns\n",
    "import matplotlib.pyplot as plt\n",
    "\n",
    "sns.set_style('darkgrid')\n",
    "plt.figure(figsize=(4, 5))\n",
    "sns.countplot(data['sentiment'])\n",
    "plt.title('No. of reviews in with each sentiment')\n",
    "plt.xlabel(\"\")\n",
    "plt.ylabel(\"\")\n",
    "plt.show()"
   ]
  },
  {
   "cell_type": "markdown",
   "metadata": {
    "colab_type": "text",
    "id": "ILPvIcMt1eDj"
   },
   "source": [
    "* So from here we can inference that the number of sentiments are same of each review and data set is balanced."
   ]
  },
  {
   "cell_type": "code",
   "execution_count": 6,
   "metadata": {
    "colab": {
     "base_uri": "https://localhost:8080/",
     "height": 67
    },
    "colab_type": "code",
    "id": "keZv9UOQ5MFE",
    "outputId": "455b6079-d374-4aec-dd31-dae4d4abff45"
   },
   "outputs": [
    {
     "data": {
      "text/plain": [
       "review       0\n",
       "sentiment    0\n",
       "dtype: int64"
      ]
     },
     "execution_count": 6,
     "metadata": {
      "tags": []
     },
     "output_type": "execute_result"
    }
   ],
   "source": [
    "# Counting missing values\n",
    "data.isnull().sum()"
   ]
  },
  {
   "cell_type": "code",
   "execution_count": 7,
   "metadata": {
    "colab": {
     "base_uri": "https://localhost:8080/",
     "height": 120
    },
    "colab_type": "code",
    "id": "XcxAQlqF1TnP",
    "outputId": "1f41716e-9306-4abd-94fc-d7979c4eefd9"
   },
   "outputs": [
    {
     "data": {
      "application/vnd.google.colaboratory.intrinsic+json": {
       "type": "string"
      },
      "text/plain": [
       "'A wonderful little production. <br /><br />The filming technique is very unassuming- very old-time-BBC fashion and gives a comforting, and sometimes discomforting, sense of realism to the entire piece. <br /><br />The actors are extremely well chosen- Michael Sheen not only \"has got all the polari\" but he has all the voices down pat too! You can truly see the seamless editing guided by the references to Williams\\' diary entries, not only is it well worth the watching but it is a terrificly written and performed piece. A masterful production about one of the great master\\'s of comedy and his life. <br /><br />The realism really comes home with the little things: the fantasy of the guard which, rather than use the traditional \\'dream\\' techniques remains solid then disappears. It plays on our knowledge and our senses, particularly with the scenes concerning Orton and Halliwell and the sets (particularly of their flat with Halliwell\\'s murals decorating every surface) are terribly well done.'"
      ]
     },
     "execution_count": 7,
     "metadata": {
      "tags": []
     },
     "output_type": "execute_result"
    }
   ],
   "source": [
    "review = data['review'].loc[1]\n",
    "review"
   ]
  },
  {
   "cell_type": "markdown",
   "metadata": {
    "colab_type": "text",
    "id": "j5RBkTnZCmNY"
   },
   "source": [
    "## Remove html tags"
   ]
  },
  {
   "cell_type": "code",
   "execution_count": 8,
   "metadata": {
    "colab": {
     "base_uri": "https://localhost:8080/",
     "height": 119
    },
    "colab_type": "code",
    "id": "Jqn-k5nI4z7p",
    "outputId": "5d478312-12f8-4a93-af25-19f325e91005"
   },
   "outputs": [
    {
     "data": {
      "application/vnd.google.colaboratory.intrinsic+json": {
       "type": "string"
      },
      "text/plain": [
       "'A wonderful little production. The filming technique is very unassuming- very old-time-BBC fashion and gives a comforting, and sometimes discomforting, sense of realism to the entire piece. The actors are extremely well chosen- Michael Sheen not only \"has got all the polari\" but he has all the voices down pat too! You can truly see the seamless editing guided by the references to Williams\\' diary entries, not only is it well worth the watching but it is a terrificly written and performed piece. A masterful production about one of the great master\\'s of comedy and his life. The realism really comes home with the little things: the fantasy of the guard which, rather than use the traditional \\'dream\\' techniques remains solid then disappears. It plays on our knowledge and our senses, particularly with the scenes concerning Orton and Halliwell and the sets (particularly of their flat with Halliwell\\'s murals decorating every surface) are terribly well done.'"
      ]
     },
     "execution_count": 8,
     "metadata": {
      "tags": []
     },
     "output_type": "execute_result"
    }
   ],
   "source": [
    "import re\n",
    "from bs4 import BeautifulSoup\n",
    "soup = BeautifulSoup(review, \"html.parser\")\n",
    "review = soup.get_text()\n",
    "review"
   ]
  },
  {
   "cell_type": "markdown",
   "metadata": {
    "colab_type": "text",
    "id": "PN0jriQ-DmgJ"
   },
   "source": [
    "## Remove everything except lower/upper case letters using Regular Expressions."
   ]
  },
  {
   "cell_type": "code",
   "execution_count": 9,
   "metadata": {
    "colab": {
     "base_uri": "https://localhost:8080/",
     "height": 119
    },
    "colab_type": "code",
    "id": "pSAqMcI0BFXu",
    "outputId": "65ec6270-0fd7-432f-fb7e-c5365d5fd22c"
   },
   "outputs": [
    {
     "data": {
      "application/vnd.google.colaboratory.intrinsic+json": {
       "type": "string"
      },
      "text/plain": [
       "'A wonderful little production  The filming technique is very unassuming  very old time BBC fashion and gives a comforting  and sometimes discomforting  sense of realism to the entire piece  The actors are extremely well chosen  Michael Sheen not only  has got all the polari  but he has all the voices down pat too  You can truly see the seamless editing guided by the references to Williams  diary entries  not only is it well worth the watching but it is a terrificly written and performed piece  A masterful production about one of the great master s of comedy and his life  The realism really comes home with the little things  the fantasy of the guard which  rather than use the traditional  dream  techniques remains solid then disappears  It plays on our knowledge and our senses  particularly with the scenes concerning Orton and Halliwell and the sets  particularly of their flat with Halliwell s murals decorating every surface  are terribly well done '"
      ]
     },
     "execution_count": 9,
     "metadata": {
      "tags": []
     },
     "output_type": "execute_result"
    }
   ],
   "source": [
    "review = re.sub('\\[[^]]*\\]', ' ', review)\n",
    "review = re.sub('[^a-zA-Z]', ' ', review)\n",
    "review"
   ]
  },
  {
   "cell_type": "markdown",
   "metadata": {
    "colab_type": "text",
    "id": "NEGRJ9GMD71y"
   },
   "source": [
    "## Converting everything into lowercase."
   ]
  },
  {
   "cell_type": "code",
   "execution_count": 10,
   "metadata": {
    "colab": {
     "base_uri": "https://localhost:8080/",
     "height": 119
    },
    "colab_type": "code",
    "id": "a-8XAfpzD-3u",
    "outputId": "e2bf0a44-9ee7-4f9f-d1cf-09e350965136"
   },
   "outputs": [
    {
     "data": {
      "application/vnd.google.colaboratory.intrinsic+json": {
       "type": "string"
      },
      "text/plain": [
       "'a wonderful little production  the filming technique is very unassuming  very old time bbc fashion and gives a comforting  and sometimes discomforting  sense of realism to the entire piece  the actors are extremely well chosen  michael sheen not only  has got all the polari  but he has all the voices down pat too  you can truly see the seamless editing guided by the references to williams  diary entries  not only is it well worth the watching but it is a terrificly written and performed piece  a masterful production about one of the great master s of comedy and his life  the realism really comes home with the little things  the fantasy of the guard which  rather than use the traditional  dream  techniques remains solid then disappears  it plays on our knowledge and our senses  particularly with the scenes concerning orton and halliwell and the sets  particularly of their flat with halliwell s murals decorating every surface  are terribly well done '"
      ]
     },
     "execution_count": 10,
     "metadata": {
      "tags": []
     },
     "output_type": "execute_result"
    }
   ],
   "source": [
    "review = review.lower()\n",
    "review"
   ]
  },
  {
   "cell_type": "markdown",
   "metadata": {
    "colab_type": "text",
    "id": "lwmZqihaNUqB"
   },
   "source": [
    "## Get rid of redundant words which does not add much meaning\n",
    "\n",
    "### Removing Stop words"
   ]
  },
  {
   "cell_type": "code",
   "execution_count": 11,
   "metadata": {
    "colab": {
     "base_uri": "https://localhost:8080/",
     "height": 1000
    },
    "colab_type": "code",
    "id": "FIvoikXeEELR",
    "outputId": "d46f6626-bbab-431c-e25b-7806924015d0"
   },
   "outputs": [
    {
     "data": {
      "text/plain": [
       "['a',\n",
       " 'wonderful',\n",
       " 'little',\n",
       " 'production',\n",
       " 'the',\n",
       " 'filming',\n",
       " 'technique',\n",
       " 'is',\n",
       " 'very',\n",
       " 'unassuming',\n",
       " 'very',\n",
       " 'old',\n",
       " 'time',\n",
       " 'bbc',\n",
       " 'fashion',\n",
       " 'and',\n",
       " 'gives',\n",
       " 'a',\n",
       " 'comforting',\n",
       " 'and',\n",
       " 'sometimes',\n",
       " 'discomforting',\n",
       " 'sense',\n",
       " 'of',\n",
       " 'realism',\n",
       " 'to',\n",
       " 'the',\n",
       " 'entire',\n",
       " 'piece',\n",
       " 'the',\n",
       " 'actors',\n",
       " 'are',\n",
       " 'extremely',\n",
       " 'well',\n",
       " 'chosen',\n",
       " 'michael',\n",
       " 'sheen',\n",
       " 'not',\n",
       " 'only',\n",
       " 'has',\n",
       " 'got',\n",
       " 'all',\n",
       " 'the',\n",
       " 'polari',\n",
       " 'but',\n",
       " 'he',\n",
       " 'has',\n",
       " 'all',\n",
       " 'the',\n",
       " 'voices',\n",
       " 'down',\n",
       " 'pat',\n",
       " 'too',\n",
       " 'you',\n",
       " 'can',\n",
       " 'truly',\n",
       " 'see',\n",
       " 'the',\n",
       " 'seamless',\n",
       " 'editing',\n",
       " 'guided',\n",
       " 'by',\n",
       " 'the',\n",
       " 'references',\n",
       " 'to',\n",
       " 'williams',\n",
       " 'diary',\n",
       " 'entries',\n",
       " 'not',\n",
       " 'only',\n",
       " 'is',\n",
       " 'it',\n",
       " 'well',\n",
       " 'worth',\n",
       " 'the',\n",
       " 'watching',\n",
       " 'but',\n",
       " 'it',\n",
       " 'is',\n",
       " 'a',\n",
       " 'terrificly',\n",
       " 'written',\n",
       " 'and',\n",
       " 'performed',\n",
       " 'piece',\n",
       " 'a',\n",
       " 'masterful',\n",
       " 'production',\n",
       " 'about',\n",
       " 'one',\n",
       " 'of',\n",
       " 'the',\n",
       " 'great',\n",
       " 'master',\n",
       " 's',\n",
       " 'of',\n",
       " 'comedy',\n",
       " 'and',\n",
       " 'his',\n",
       " 'life',\n",
       " 'the',\n",
       " 'realism',\n",
       " 'really',\n",
       " 'comes',\n",
       " 'home',\n",
       " 'with',\n",
       " 'the',\n",
       " 'little',\n",
       " 'things',\n",
       " 'the',\n",
       " 'fantasy',\n",
       " 'of',\n",
       " 'the',\n",
       " 'guard',\n",
       " 'which',\n",
       " 'rather',\n",
       " 'than',\n",
       " 'use',\n",
       " 'the',\n",
       " 'traditional',\n",
       " 'dream',\n",
       " 'techniques',\n",
       " 'remains',\n",
       " 'solid',\n",
       " 'then',\n",
       " 'disappears',\n",
       " 'it',\n",
       " 'plays',\n",
       " 'on',\n",
       " 'our',\n",
       " 'knowledge',\n",
       " 'and',\n",
       " 'our',\n",
       " 'senses',\n",
       " 'particularly',\n",
       " 'with',\n",
       " 'the',\n",
       " 'scenes',\n",
       " 'concerning',\n",
       " 'orton',\n",
       " 'and',\n",
       " 'halliwell',\n",
       " 'and',\n",
       " 'the',\n",
       " 'sets',\n",
       " 'particularly',\n",
       " 'of',\n",
       " 'their',\n",
       " 'flat',\n",
       " 'with',\n",
       " 'halliwell',\n",
       " 's',\n",
       " 'murals',\n",
       " 'decorating',\n",
       " 'every',\n",
       " 'surface',\n",
       " 'are',\n",
       " 'terribly',\n",
       " 'well',\n",
       " 'done']"
      ]
     },
     "execution_count": 11,
     "metadata": {
      "tags": []
     },
     "output_type": "execute_result"
    }
   ],
   "source": [
    "#Stopwords removal - since stopwords removal works on every word in your text we need to split the text.\n",
    "review = review.split()\n",
    "review"
   ]
  },
  {
   "cell_type": "code",
   "execution_count": 15,
   "metadata": {
    "colab": {
     "base_uri": "https://localhost:8080/",
     "height": 34
    },
    "colab_type": "code",
    "id": "41MdOUGuOIKp",
    "outputId": "1fe34b19-bf88-436e-fb8a-6e504c29174e"
   },
   "outputs": [
    {
     "data": {
      "text/plain": [
       "['i', 'me', 'my', 'myself', 'we', 'our', 'ours', 'ourselves', 'you', \"you're\"]"
      ]
     },
     "execution_count": 15,
     "metadata": {
      "tags": []
     },
     "output_type": "execute_result"
    }
   ],
   "source": [
    "\n",
    "import nltk\n",
    "stop_words = nltk.corpus.stopwords.words('english')\n",
    "stop_words[0:10]"
   ]
  },
  {
   "cell_type": "markdown",
   "metadata": {
    "colab_type": "text",
    "id": "IaS8nboJO_Ec"
   },
   "source": [
    "### Finally removing stop words"
   ]
  },
  {
   "cell_type": "code",
   "execution_count": 16,
   "metadata": {
    "colab": {
     "base_uri": "https://localhost:8080/",
     "height": 70
    },
    "colab_type": "code",
    "id": "0U6CfWQJSK5m",
    "outputId": "139e6eac-8ace-4819-e379-f3ac0029c65b"
   },
   "outputs": [
    {
     "name": "stdout",
     "output_type": "stream",
     "text": [
      "One reviewers mentioned watching 1 Oz episode hooked. They right, exactly happened me.<br /><br />The first thing struck Oz brutality unflinching scenes violence, set right word GO. Trust me, show faint hearted timid. This show pulls punches regards drugs, sex violence. Its hardcore, classic use word.<br /><br />It called OZ nickname given Oswald Maximum Security State Penitentary. It focuses mainly Emerald City, experimental section prison cells glass fronts face inwards, privacy high agenda. Em City home many..Aryans, Muslims, gangstas, Latinos, Christians, Italians, Irish more....so scuffles, death stares, dodgy dealings shady agreements never far away.<br /><br />I would say main appeal show due fact goes shows dare. Forget pretty pictures painted mainstream audiences, forget charm, forget romance...OZ mess around. The first episode I ever saw struck nasty surreal, I say I ready it, I watched more, I developed taste Oz, got accustomed high levels graphic violence. Not violence, injustice (crooked guards who'll sold nickel, inmates who'll kill order get away it, well mannered, middle class inmates turned prison bitches due lack street skills prison experience) Watching Oz, may become comfortable uncomfortable viewing....thats get touch darker side.\n",
      "positive\n"
     ]
    }
   ],
   "source": [
    "import csv\n",
    "sentences = []\n",
    "labels = []\n",
    "with open(\"IMDB Dataset.csv\", 'r') as csvfile:\n",
    "    reader = csv.reader(csvfile, delimiter=',')\n",
    "    next(reader)\n",
    "    for row in reader:\n",
    "        labels.append(row[1])\n",
    "        sentence = row[0]\n",
    "        for word in stop_words:\n",
    "            token = \" \" + word + \" \"\n",
    "            sentence = sentence.replace(token, \" \")\n",
    "        sentences.append(sentence)\n",
    "\n",
    "print(sentences[0])\n",
    "print(labels[0])"
   ]
  },
  {
   "cell_type": "markdown",
   "metadata": {
    "colab_type": "text",
    "id": "fqibuLlMUlV1"
   },
   "source": [
    "## Let's encode Labels "
   ]
  },
  {
   "cell_type": "code",
   "execution_count": 17,
   "metadata": {
    "colab": {
     "base_uri": "https://localhost:8080/",
     "height": 34
    },
    "colab_type": "code",
    "id": "QFyKcyyoQOl7",
    "outputId": "bc750da8-7c3f-4366-bf15-1ce3037eaa4a"
   },
   "outputs": [
    {
     "name": "stdout",
     "output_type": "stream",
     "text": [
      "[1 1 1 0 1 1 1 0 0 1]\n"
     ]
    }
   ],
   "source": [
    "# Lets encode labels: each label is an integer value of either 0 or 1, where 0 is a negative review, and 1 is a positive review.\n",
    "from sklearn import preprocessing\n",
    "label_encoder = preprocessing.LabelEncoder()\n",
    "labels= label_encoder.fit_transform(labels)\n",
    "print(labels[:10])\n"
   ]
  },
  {
   "cell_type": "markdown",
   "metadata": {
    "colab_type": "text",
    "id": "G1ogYp_pW6fk"
   },
   "source": [
    "# Splitting in test and train data"
   ]
  },
  {
   "cell_type": "code",
   "execution_count": 18,
   "metadata": {
    "colab": {
     "base_uri": "https://localhost:8080/",
     "height": 101
    },
    "colab_type": "code",
    "id": "fGFdvPfSUIPg",
    "outputId": "5f153111-5119-408d-a6da-2e2dbeac4e92"
   },
   "outputs": [
    {
     "name": "stdout",
     "output_type": "stream",
     "text": [
      "40000\n",
      "40000\n",
      "40000\n",
      "10000\n",
      "10000\n"
     ]
    }
   ],
   "source": [
    "training_portion = .8\n",
    "train_size = int(len(sentences) * training_portion)\n",
    "\n",
    "train_sentences = sentences[:train_size]\n",
    "train_labels = labels[:train_size]\n",
    "\n",
    "validation_sentences = sentences[train_size:]\n",
    "validation_labels = labels[train_size:]\n",
    "\n",
    "print(train_size)\n",
    "print(len(train_sentences))\n",
    "print(len(train_labels))\n",
    "print(len(validation_sentences))\n",
    "print(len(validation_labels))"
   ]
  },
  {
   "cell_type": "markdown",
   "metadata": {
    "colab_type": "text",
    "id": "H8erqCghW__x"
   },
   "source": [
    "Converting train and test labels to numpy array"
   ]
  },
  {
   "cell_type": "code",
   "execution_count": 19,
   "metadata": {
    "colab": {},
    "colab_type": "code",
    "id": "JOwl3aezWAbh"
   },
   "outputs": [],
   "source": [
    "import numpy as np\n",
    "training_labels_final = np.array(train_labels)\n",
    "testing_labels_final = np.array(validation_labels)\n"
   ]
  },
  {
   "cell_type": "markdown",
   "metadata": {
    "colab_type": "text",
    "id": "AZJhO81HXkJM"
   },
   "source": [
    "# TOKENIZING"
   ]
  },
  {
   "cell_type": "code",
   "execution_count": 20,
   "metadata": {
    "colab": {},
    "colab_type": "code",
    "id": "Xqg7OUxFXUY_"
   },
   "outputs": [],
   "source": [
    "vocab_size = 10000\n",
    "embedding_dim = 32\n",
    "max_length = 120\n",
    "trunc_type='post'\n",
    "oov_tok = \"<OOV>\"\n",
    "\n",
    "\n",
    "from tensorflow.keras.preprocessing.text import Tokenizer\n",
    "from tensorflow.keras.preprocessing.sequence import pad_sequences\n",
    "\n",
    "tokenizer = Tokenizer(num_words = vocab_size, oov_token=oov_tok)\n",
    "tokenizer.fit_on_texts(train_sentences)\n",
    "word_index = tokenizer.word_index\n",
    "sequences = tokenizer.texts_to_sequences(train_sentences)\n",
    "padded = pad_sequences(sequences,maxlen=max_length, truncating=trunc_type)\n",
    "\n",
    "testing_sequences = tokenizer.texts_to_sequences(validation_sentences)\n",
    "testing_padded = pad_sequences(testing_sequences,maxlen=max_length)"
   ]
  },
  {
   "cell_type": "markdown",
   "metadata": {
    "colab_type": "text",
    "id": "_fFw9tczZTn5"
   },
   "source": [
    "# Fitting different models "
   ]
  },
  {
   "cell_type": "markdown",
   "metadata": {
    "colab_type": "text",
    "id": "j2zptXxsZbHK"
   },
   "source": [
    "## **Model Definition with GRU**"
   ]
  },
  {
   "cell_type": "code",
   "execution_count": 21,
   "metadata": {
    "colab": {
     "base_uri": "https://localhost:8080/",
     "height": 286
    },
    "colab_type": "code",
    "id": "0dtT9UdAY6rw",
    "outputId": "bb3a2fdb-866e-47c3-e0ad-0201cb66307b"
   },
   "outputs": [
    {
     "name": "stdout",
     "output_type": "stream",
     "text": [
      "Model: \"sequential\"\n",
      "_________________________________________________________________\n",
      "Layer (type)                 Output Shape              Param #   \n",
      "=================================================================\n",
      "embedding (Embedding)        (None, 120, 32)           320000    \n",
      "_________________________________________________________________\n",
      "bidirectional (Bidirectional (None, 64)                12672     \n",
      "_________________________________________________________________\n",
      "dense (Dense)                (None, 6)                 390       \n",
      "_________________________________________________________________\n",
      "dense_1 (Dense)              (None, 1)                 7         \n",
      "=================================================================\n",
      "Total params: 333,069\n",
      "Trainable params: 333,069\n",
      "Non-trainable params: 0\n",
      "_________________________________________________________________\n"
     ]
    }
   ],
   "source": [
    "import tensorflow as tf\n",
    "model = tf.keras.Sequential([\n",
    "    tf.keras.layers.Embedding(vocab_size, embedding_dim, input_length=max_length),\n",
    "    tf.keras.layers.Bidirectional(tf.keras.layers.GRU(32)),\n",
    "    tf.keras.layers.Dense(6, activation='relu'),\n",
    "    tf.keras.layers.Dense(1, activation='sigmoid')\n",
    "])\n",
    "model.compile(loss='binary_crossentropy',optimizer='adam',metrics=['accuracy'])\n",
    "model.summary()"
   ]
  },
  {
   "cell_type": "code",
   "execution_count": 22,
   "metadata": {
    "colab": {
     "base_uri": "https://localhost:8080/",
     "height": 1000
    },
    "colab_type": "code",
    "id": "8QXPvIGRaFFC",
    "outputId": "1bbca00c-c0b1-4eec-d497-c6714e3d59db"
   },
   "outputs": [
    {
     "name": "stdout",
     "output_type": "stream",
     "text": [
      "Epoch 1/50\n",
      "1250/1250 [==============================] - 81s 65ms/step - loss: 0.4048 - accuracy: 0.8063 - val_loss: 0.2880 - val_accuracy: 0.8859\n",
      "Epoch 2/50\n",
      "1250/1250 [==============================] - 81s 65ms/step - loss: 0.2478 - accuracy: 0.9018 - val_loss: 0.2748 - val_accuracy: 0.8878\n",
      "Epoch 3/50\n",
      "1250/1250 [==============================] - 82s 66ms/step - loss: 0.1820 - accuracy: 0.9313 - val_loss: 0.3021 - val_accuracy: 0.8824\n",
      "Epoch 4/50\n",
      "1250/1250 [==============================] - 79s 63ms/step - loss: 0.1213 - accuracy: 0.9562 - val_loss: 0.3640 - val_accuracy: 0.8755\n",
      "Epoch 5/50\n",
      "1250/1250 [==============================] - 80s 64ms/step - loss: 0.0746 - accuracy: 0.9740 - val_loss: 0.4418 - val_accuracy: 0.8644\n",
      "Epoch 6/50\n",
      "1250/1250 [==============================] - 79s 63ms/step - loss: 0.0435 - accuracy: 0.9862 - val_loss: 0.5545 - val_accuracy: 0.8661\n",
      "Epoch 7/50\n",
      "1250/1250 [==============================] - 77s 62ms/step - loss: 0.0312 - accuracy: 0.9899 - val_loss: 0.6405 - val_accuracy: 0.8673\n",
      "Epoch 8/50\n",
      "1250/1250 [==============================] - 79s 64ms/step - loss: 0.0220 - accuracy: 0.9927 - val_loss: 0.6920 - val_accuracy: 0.8650\n",
      "Epoch 9/50\n",
      "1250/1250 [==============================] - 80s 64ms/step - loss: 0.0159 - accuracy: 0.9949 - val_loss: 0.7813 - val_accuracy: 0.8584\n",
      "Epoch 10/50\n",
      "1250/1250 [==============================] - 78s 62ms/step - loss: 0.0138 - accuracy: 0.9956 - val_loss: 0.8832 - val_accuracy: 0.8642\n",
      "Epoch 11/50\n",
      "1250/1250 [==============================] - 77s 62ms/step - loss: 0.0085 - accuracy: 0.9972 - val_loss: 0.9536 - val_accuracy: 0.8668\n",
      "Epoch 12/50\n",
      "1250/1250 [==============================] - 80s 64ms/step - loss: 0.0122 - accuracy: 0.9961 - val_loss: 0.9504 - val_accuracy: 0.8592\n",
      "Epoch 13/50\n",
      "1250/1250 [==============================] - 78s 62ms/step - loss: 0.0078 - accuracy: 0.9974 - val_loss: 0.9747 - val_accuracy: 0.8518\n",
      "Epoch 14/50\n",
      "1250/1250 [==============================] - 78s 63ms/step - loss: 0.0067 - accuracy: 0.9977 - val_loss: 1.0627 - val_accuracy: 0.8580\n",
      "Epoch 15/50\n",
      "1250/1250 [==============================] - 78s 62ms/step - loss: 0.0039 - accuracy: 0.9986 - val_loss: 1.2019 - val_accuracy: 0.8649\n",
      "Epoch 16/50\n",
      "1250/1250 [==============================] - 78s 62ms/step - loss: 0.0108 - accuracy: 0.9964 - val_loss: 1.0951 - val_accuracy: 0.8611\n",
      "Epoch 17/50\n",
      "1250/1250 [==============================] - 79s 63ms/step - loss: 0.0039 - accuracy: 0.9986 - val_loss: 1.1645 - val_accuracy: 0.8657\n",
      "Epoch 18/50\n",
      "1250/1250 [==============================] - 79s 63ms/step - loss: 0.0054 - accuracy: 0.9983 - val_loss: 1.0762 - val_accuracy: 0.8629\n",
      "Epoch 19/50\n",
      "1250/1250 [==============================] - 78s 62ms/step - loss: 0.0040 - accuracy: 0.9987 - val_loss: 1.1268 - val_accuracy: 0.8638\n",
      "Epoch 20/50\n",
      "1250/1250 [==============================] - 79s 63ms/step - loss: 0.0042 - accuracy: 0.9987 - val_loss: 1.1191 - val_accuracy: 0.8618\n",
      "Epoch 21/50\n",
      "1250/1250 [==============================] - 77s 62ms/step - loss: 0.0035 - accuracy: 0.9987 - val_loss: 1.1372 - val_accuracy: 0.8642\n",
      "Epoch 22/50\n",
      "1250/1250 [==============================] - 77s 61ms/step - loss: 0.0028 - accuracy: 0.9991 - val_loss: 1.1958 - val_accuracy: 0.8622\n",
      "Epoch 23/50\n",
      "1250/1250 [==============================] - 74s 59ms/step - loss: 0.0035 - accuracy: 0.9989 - val_loss: 1.1408 - val_accuracy: 0.8591\n",
      "Epoch 24/50\n",
      "1250/1250 [==============================] - 75s 60ms/step - loss: 0.0039 - accuracy: 0.9986 - val_loss: 1.1802 - val_accuracy: 0.8617\n",
      "Epoch 25/50\n",
      "1250/1250 [==============================] - 76s 61ms/step - loss: 0.0013 - accuracy: 0.9998 - val_loss: 1.1684 - val_accuracy: 0.8591\n",
      "Epoch 26/50\n",
      "1250/1250 [==============================] - 77s 62ms/step - loss: 0.0010 - accuracy: 0.9998 - val_loss: 1.2805 - val_accuracy: 0.8640\n",
      "Epoch 27/50\n",
      "1250/1250 [==============================] - 76s 61ms/step - loss: 0.0013 - accuracy: 0.9995 - val_loss: 1.2649 - val_accuracy: 0.8618\n",
      "Epoch 28/50\n",
      "1250/1250 [==============================] - 75s 60ms/step - loss: 0.0049 - accuracy: 0.9985 - val_loss: 1.1766 - val_accuracy: 0.8596\n",
      "Epoch 29/50\n",
      "1250/1250 [==============================] - 79s 64ms/step - loss: 0.0023 - accuracy: 0.9991 - val_loss: 1.2347 - val_accuracy: 0.8582\n",
      "Epoch 30/50\n",
      "1250/1250 [==============================] - 77s 62ms/step - loss: 0.0011 - accuracy: 0.9997 - val_loss: 1.2910 - val_accuracy: 0.8613\n",
      "Epoch 31/50\n",
      "1250/1250 [==============================] - 77s 62ms/step - loss: 3.0906e-04 - accuracy: 0.9999 - val_loss: 1.3349 - val_accuracy: 0.8605\n",
      "Epoch 32/50\n",
      "1250/1250 [==============================] - 79s 63ms/step - loss: 9.5642e-05 - accuracy: 1.0000 - val_loss: 1.3929 - val_accuracy: 0.8617\n",
      "Epoch 33/50\n",
      "1250/1250 [==============================] - 77s 62ms/step - loss: 7.5998e-06 - accuracy: 1.0000 - val_loss: 1.4475 - val_accuracy: 0.8628\n",
      "Epoch 34/50\n",
      "1250/1250 [==============================] - 75s 60ms/step - loss: 2.8492e-06 - accuracy: 1.0000 - val_loss: 1.4838 - val_accuracy: 0.8627\n",
      "Epoch 35/50\n",
      "1250/1250 [==============================] - 75s 60ms/step - loss: 1.7484e-06 - accuracy: 1.0000 - val_loss: 1.5261 - val_accuracy: 0.8629\n",
      "Epoch 36/50\n",
      "1250/1250 [==============================] - 80s 64ms/step - loss: 1.0509e-06 - accuracy: 1.0000 - val_loss: 1.5752 - val_accuracy: 0.8630\n",
      "Epoch 37/50\n",
      "1250/1250 [==============================] - 78s 62ms/step - loss: 6.1507e-07 - accuracy: 1.0000 - val_loss: 1.6298 - val_accuracy: 0.8635\n",
      "Epoch 38/50\n",
      "1250/1250 [==============================] - 83s 66ms/step - loss: 3.5035e-07 - accuracy: 1.0000 - val_loss: 1.6880 - val_accuracy: 0.8640\n",
      "Epoch 39/50\n",
      "1250/1250 [==============================] - 77s 62ms/step - loss: 1.9451e-07 - accuracy: 1.0000 - val_loss: 1.7507 - val_accuracy: 0.8637\n",
      "Epoch 40/50\n",
      "1250/1250 [==============================] - 79s 63ms/step - loss: 1.0724e-07 - accuracy: 1.0000 - val_loss: 1.8158 - val_accuracy: 0.8638\n",
      "Epoch 41/50\n",
      "1250/1250 [==============================] - 79s 63ms/step - loss: 5.9129e-08 - accuracy: 1.0000 - val_loss: 1.8842 - val_accuracy: 0.8637\n",
      "Epoch 42/50\n",
      "1250/1250 [==============================] - 76s 61ms/step - loss: 3.2315e-08 - accuracy: 1.0000 - val_loss: 1.9529 - val_accuracy: 0.8642\n",
      "Epoch 43/50\n",
      "1250/1250 [==============================] - 79s 63ms/step - loss: 1.7983e-08 - accuracy: 1.0000 - val_loss: 2.0192 - val_accuracy: 0.8642\n",
      "Epoch 44/50\n",
      "1250/1250 [==============================] - 77s 62ms/step - loss: 1.0132e-08 - accuracy: 1.0000 - val_loss: 2.0862 - val_accuracy: 0.8641\n",
      "Epoch 45/50\n",
      "1250/1250 [==============================] - 83s 67ms/step - loss: 5.9285e-09 - accuracy: 1.0000 - val_loss: 2.1459 - val_accuracy: 0.8638\n",
      "Epoch 46/50\n",
      "1250/1250 [==============================] - 77s 62ms/step - loss: 3.6028e-09 - accuracy: 1.0000 - val_loss: 2.2046 - val_accuracy: 0.8639\n",
      "Epoch 47/50\n",
      "1250/1250 [==============================] - 86s 69ms/step - loss: 2.3041e-09 - accuracy: 1.0000 - val_loss: 2.2591 - val_accuracy: 0.8638\n",
      "Epoch 48/50\n",
      "1250/1250 [==============================] - 80s 64ms/step - loss: 1.5907e-09 - accuracy: 1.0000 - val_loss: 2.3039 - val_accuracy: 0.8641\n",
      "Epoch 49/50\n",
      "1250/1250 [==============================] - 78s 63ms/step - loss: 1.1640e-09 - accuracy: 1.0000 - val_loss: 2.3399 - val_accuracy: 0.8639\n",
      "Epoch 50/50\n",
      "1250/1250 [==============================] - 80s 64ms/step - loss: 9.2132e-10 - accuracy: 1.0000 - val_loss: 2.3732 - val_accuracy: 0.8637\n"
     ]
    }
   ],
   "source": [
    "num_epochs = 50\n",
    "history = model.fit(padded, training_labels_final, epochs=num_epochs, validation_data=(testing_padded, testing_labels_final))"
   ]
  },
  {
   "cell_type": "markdown",
   "metadata": {
    "colab_type": "text",
    "id": "NFN3eJ_GcEgu"
   },
   "source": [
    "# Creating function to plot accuracy and loss"
   ]
  },
  {
   "cell_type": "code",
   "execution_count": 23,
   "metadata": {
    "colab": {
     "base_uri": "https://localhost:8080/",
     "height": 541
    },
    "colab_type": "code",
    "id": "OY3L_jYiacIp",
    "outputId": "5f8e521d-e67f-49c0-899a-4275fa122abd"
   },
   "outputs": [
    {
     "data": {
      "image/png": "[encoded data removed]",
      "text/plain": [
       "<Figure size 432x288 with 1 Axes>"
      ]
     },
     "metadata": {
      "tags": []
     },
     "output_type": "display_data"
    },
    {
     "data": {
      "image/png": "[encoded data removed]",
      "text/plain": [
       "<Figure size 432x288 with 1 Axes>"
      ]
     },
     "metadata": {
      "tags": []
     },
     "output_type": "display_data"
    }
   ],
   "source": [
    "import matplotlib.pyplot as plt\n",
    "\n",
    "def plot_graphs(history, string):\n",
    "  plt.plot(history.history[string])\n",
    "  plt.plot(history.history['val_'+string])\n",
    "  plt.xlabel(\"Epochs\")\n",
    "  plt.ylabel(string)\n",
    "  plt.legend([string, 'val_'+string])\n",
    "  plt.show()\n",
    "\n",
    "plot_graphs(history, 'accuracy')\n",
    "plot_graphs(history, 'loss')"
   ]
  },
  {
   "cell_type": "markdown",
   "metadata": {
    "colab_type": "text",
    "id": "ez46ZPH7bnZ8"
   },
   "source": [
    "## **Model Definition with Conv1D**"
   ]
  },
  {
   "cell_type": "code",
   "execution_count": 24,
   "metadata": {
    "colab": {
     "base_uri": "https://localhost:8080/",
     "height": 319
    },
    "colab_type": "code",
    "id": "TE3WiG4NbbTp",
    "outputId": "ee1b3b0d-0ce6-4c6f-cd18-26d265800771"
   },
   "outputs": [
    {
     "name": "stdout",
     "output_type": "stream",
     "text": [
      "Model: \"sequential_1\"\n",
      "_________________________________________________________________\n",
      "Layer (type)                 Output Shape              Param #   \n",
      "=================================================================\n",
      "embedding_1 (Embedding)      (None, 120, 32)           320000    \n",
      "_________________________________________________________________\n",
      "conv1d (Conv1D)              (None, 116, 128)          20608     \n",
      "_________________________________________________________________\n",
      "global_average_pooling1d (Gl (None, 128)               0         \n",
      "_________________________________________________________________\n",
      "dense_2 (Dense)              (None, 6)                 774       \n",
      "_________________________________________________________________\n",
      "dense_3 (Dense)              (None, 1)                 7         \n",
      "=================================================================\n",
      "Total params: 341,389\n",
      "Trainable params: 341,389\n",
      "Non-trainable params: 0\n",
      "_________________________________________________________________\n"
     ]
    }
   ],
   "source": [
    "# Model Definition with Conv1D\n",
    "model = tf.keras.Sequential([\n",
    "    tf.keras.layers.Embedding(vocab_size, embedding_dim, input_length=max_length),\n",
    "    tf.keras.layers.Conv1D(128, 5, activation='relu'),\n",
    "    tf.keras.layers.GlobalAveragePooling1D(),\n",
    "    tf.keras.layers.Dense(6, activation='relu'),\n",
    "    tf.keras.layers.Dense(1, activation='sigmoid')\n",
    "])\n",
    "model.compile(loss='binary_crossentropy',optimizer='adam',metrics=['accuracy'])\n",
    "model.summary()"
   ]
  },
  {
   "cell_type": "code",
   "execution_count": 25,
   "metadata": {
    "colab": {
     "base_uri": "https://localhost:8080/",
     "height": 1000
    },
    "colab_type": "code",
    "id": "Oo_aj3IIbxwA",
    "outputId": "2dea519f-588e-4234-8a57-37601a754026"
   },
   "outputs": [
    {
     "name": "stdout",
     "output_type": "stream",
     "text": [
      "Epoch 1/50\n",
      "1250/1250 [==============================] - 26s 21ms/step - loss: 0.6932 - accuracy: 0.5002 - val_loss: 0.6932 - val_accuracy: 0.5007\n",
      "Epoch 2/50\n",
      "1250/1250 [==============================] - 27s 22ms/step - loss: 0.6932 - accuracy: 0.4930 - val_loss: 0.6931 - val_accuracy: 0.5007\n",
      "Epoch 3/50\n",
      "1250/1250 [==============================] - 26s 21ms/step - loss: 0.6932 - accuracy: 0.5004 - val_loss: 0.6931 - val_accuracy: 0.5007\n",
      "Epoch 4/50\n",
      "1250/1250 [==============================] - 27s 21ms/step - loss: 0.6932 - accuracy: 0.4955 - val_loss: 0.6931 - val_accuracy: 0.4993\n",
      "Epoch 5/50\n",
      "1250/1250 [==============================] - 28s 22ms/step - loss: 0.6932 - accuracy: 0.4963 - val_loss: 0.6932 - val_accuracy: 0.4993\n",
      "Epoch 6/50\n",
      "1250/1250 [==============================] - 27s 22ms/step - loss: 0.6932 - accuracy: 0.4991 - val_loss: 0.6932 - val_accuracy: 0.4993\n",
      "Epoch 7/50\n",
      "1250/1250 [==============================] - 27s 22ms/step - loss: 0.6932 - accuracy: 0.4980 - val_loss: 0.6931 - val_accuracy: 0.5007\n",
      "Epoch 8/50\n",
      "1250/1250 [==============================] - 28s 22ms/step - loss: 0.6932 - accuracy: 0.4975 - val_loss: 0.6932 - val_accuracy: 0.5007\n",
      "Epoch 9/50\n",
      "1250/1250 [==============================] - 29s 23ms/step - loss: 0.6932 - accuracy: 0.4981 - val_loss: 0.6932 - val_accuracy: 0.4993\n",
      "Epoch 10/50\n",
      "1250/1250 [==============================] - 28s 23ms/step - loss: 0.6932 - accuracy: 0.4970 - val_loss: 0.6932 - val_accuracy: 0.4993\n",
      "Epoch 11/50\n",
      "1250/1250 [==============================] - 30s 24ms/step - loss: 0.6932 - accuracy: 0.5000 - val_loss: 0.6932 - val_accuracy: 0.4993\n",
      "Epoch 12/50\n",
      "1250/1250 [==============================] - 29s 23ms/step - loss: 0.6932 - accuracy: 0.4979 - val_loss: 0.6932 - val_accuracy: 0.4993\n",
      "Epoch 13/50\n",
      "1250/1250 [==============================] - 31s 25ms/step - loss: 0.6932 - accuracy: 0.5007 - val_loss: 0.6931 - val_accuracy: 0.5007\n",
      "Epoch 14/50\n",
      "1250/1250 [==============================] - 29s 23ms/step - loss: 0.6932 - accuracy: 0.5018 - val_loss: 0.6932 - val_accuracy: 0.5007\n",
      "Epoch 15/50\n",
      "1250/1250 [==============================] - 28s 23ms/step - loss: 0.6932 - accuracy: 0.4964 - val_loss: 0.6932 - val_accuracy: 0.4993\n",
      "Epoch 16/50\n",
      "1250/1250 [==============================] - 31s 25ms/step - loss: 0.6932 - accuracy: 0.4984 - val_loss: 0.6931 - val_accuracy: 0.5007\n",
      "Epoch 17/50\n",
      "1250/1250 [==============================] - 35s 28ms/step - loss: 0.6932 - accuracy: 0.4945 - val_loss: 0.6931 - val_accuracy: 0.5007\n",
      "Epoch 18/50\n",
      "1250/1250 [==============================] - 39s 31ms/step - loss: 0.6932 - accuracy: 0.4977 - val_loss: 0.6932 - val_accuracy: 0.4993\n",
      "Epoch 19/50\n",
      "1250/1250 [==============================] - 29s 23ms/step - loss: 0.6932 - accuracy: 0.4991 - val_loss: 0.6931 - val_accuracy: 0.5007\n",
      "Epoch 20/50\n",
      "1250/1250 [==============================] - 31s 25ms/step - loss: 0.6932 - accuracy: 0.4988 - val_loss: 0.6932 - val_accuracy: 0.4993\n",
      "Epoch 21/50\n",
      "1250/1250 [==============================] - 29s 23ms/step - loss: 0.6932 - accuracy: 0.4976 - val_loss: 0.6931 - val_accuracy: 0.4993\n",
      "Epoch 22/50\n",
      "1250/1250 [==============================] - 26s 20ms/step - loss: 0.6932 - accuracy: 0.5023 - val_loss: 0.6932 - val_accuracy: 0.4993\n",
      "Epoch 23/50\n",
      "1250/1250 [==============================] - 26s 21ms/step - loss: 0.6932 - accuracy: 0.4974 - val_loss: 0.6931 - val_accuracy: 0.5007\n",
      "Epoch 24/50\n",
      "1250/1250 [==============================] - 25s 20ms/step - loss: 0.6932 - accuracy: 0.4991 - val_loss: 0.6932 - val_accuracy: 0.4993\n",
      "Epoch 25/50\n",
      "1250/1250 [==============================] - 26s 21ms/step - loss: 0.6932 - accuracy: 0.4983 - val_loss: 0.6932 - val_accuracy: 0.4993\n",
      "Epoch 26/50\n",
      "1250/1250 [==============================] - 26s 21ms/step - loss: 0.6932 - accuracy: 0.4922 - val_loss: 0.6932 - val_accuracy: 0.4993\n",
      "Epoch 27/50\n",
      "1250/1250 [==============================] - 26s 21ms/step - loss: 0.6932 - accuracy: 0.4974 - val_loss: 0.6932 - val_accuracy: 0.4993\n",
      "Epoch 28/50\n",
      "1250/1250 [==============================] - 26s 20ms/step - loss: 0.6932 - accuracy: 0.4940 - val_loss: 0.6932 - val_accuracy: 0.4993\n",
      "Epoch 29/50\n",
      "1250/1250 [==============================] - 26s 21ms/step - loss: 0.6932 - accuracy: 0.5024 - val_loss: 0.6932 - val_accuracy: 0.5007\n",
      "Epoch 30/50\n",
      "1250/1250 [==============================] - 25s 20ms/step - loss: 0.6932 - accuracy: 0.5006 - val_loss: 0.6932 - val_accuracy: 0.5007\n",
      "Epoch 31/50\n",
      "1250/1250 [==============================] - 25s 20ms/step - loss: 0.6932 - accuracy: 0.4981 - val_loss: 0.6932 - val_accuracy: 0.4993\n",
      "Epoch 32/50\n",
      "1250/1250 [==============================] - 25s 20ms/step - loss: 0.6932 - accuracy: 0.4981 - val_loss: 0.6932 - val_accuracy: 0.4993\n",
      "Epoch 33/50\n",
      "1250/1250 [==============================] - 25s 20ms/step - loss: 0.6932 - accuracy: 0.4994 - val_loss: 0.6931 - val_accuracy: 0.5007\n",
      "Epoch 34/50\n",
      "1250/1250 [==============================] - 26s 21ms/step - loss: 0.6932 - accuracy: 0.4962 - val_loss: 0.6931 - val_accuracy: 0.5007\n",
      "Epoch 35/50\n",
      "1250/1250 [==============================] - 25s 20ms/step - loss: 0.6932 - accuracy: 0.5000 - val_loss: 0.6931 - val_accuracy: 0.4993\n",
      "Epoch 36/50\n",
      "1250/1250 [==============================] - 25s 20ms/step - loss: 0.6932 - accuracy: 0.4963 - val_loss: 0.6931 - val_accuracy: 0.4993\n",
      "Epoch 37/50\n",
      "1250/1250 [==============================] - 25s 20ms/step - loss: 0.6932 - accuracy: 0.4952 - val_loss: 0.6931 - val_accuracy: 0.4993\n",
      "Epoch 38/50\n",
      "1250/1250 [==============================] - 25s 20ms/step - loss: 0.6932 - accuracy: 0.5009 - val_loss: 0.6931 - val_accuracy: 0.4993\n",
      "Epoch 39/50\n",
      "1250/1250 [==============================] - 25s 20ms/step - loss: 0.6932 - accuracy: 0.5007 - val_loss: 0.6932 - val_accuracy: 0.4993\n",
      "Epoch 40/50\n",
      "1250/1250 [==============================] - 25s 20ms/step - loss: 0.6932 - accuracy: 0.4958 - val_loss: 0.6931 - val_accuracy: 0.5007\n",
      "Epoch 41/50\n",
      "1250/1250 [==============================] - 26s 21ms/step - loss: 0.6932 - accuracy: 0.4950 - val_loss: 0.6932 - val_accuracy: 0.4993\n",
      "Epoch 42/50\n",
      "1250/1250 [==============================] - 26s 21ms/step - loss: 0.6932 - accuracy: 0.4943 - val_loss: 0.6932 - val_accuracy: 0.4993\n",
      "Epoch 43/50\n",
      "1250/1250 [==============================] - 25s 20ms/step - loss: 0.6932 - accuracy: 0.4986 - val_loss: 0.6931 - val_accuracy: 0.4993\n",
      "Epoch 44/50\n",
      "1250/1250 [==============================] - 25s 20ms/step - loss: 0.6932 - accuracy: 0.5035 - val_loss: 0.6932 - val_accuracy: 0.4993\n",
      "Epoch 45/50\n",
      "1250/1250 [==============================] - 26s 21ms/step - loss: 0.6932 - accuracy: 0.4968 - val_loss: 0.6931 - val_accuracy: 0.4993\n",
      "Epoch 46/50\n",
      "1250/1250 [==============================] - 26s 20ms/step - loss: 0.6932 - accuracy: 0.4966 - val_loss: 0.6931 - val_accuracy: 0.5007\n",
      "Epoch 47/50\n",
      "1250/1250 [==============================] - 25s 20ms/step - loss: 0.6932 - accuracy: 0.5027 - val_loss: 0.6932 - val_accuracy: 0.5007\n",
      "Epoch 48/50\n",
      "1250/1250 [==============================] - 26s 20ms/step - loss: 0.6932 - accuracy: 0.5017 - val_loss: 0.6932 - val_accuracy: 0.4993\n",
      "Epoch 49/50\n",
      "1250/1250 [==============================] - 25s 20ms/step - loss: 0.6932 - accuracy: 0.5012 - val_loss: 0.6932 - val_accuracy: 0.4993\n",
      "Epoch 50/50\n",
      "1250/1250 [==============================] - 25s 20ms/step - loss: 0.6932 - accuracy: 0.4987 - val_loss: 0.6932 - val_accuracy: 0.4993\n"
     ]
    }
   ],
   "source": [
    "num_epochs = 50\n",
    "history = model.fit(padded, training_labels_final, epochs=num_epochs, validation_data=(testing_padded, testing_labels_final))\n"
   ]
  },
  {
   "cell_type": "markdown",
   "metadata": {
    "colab_type": "text",
    "id": "9322pRu-b_W_"
   },
   "source": [
    "## Plotting accuracy and loss"
   ]
  },
  {
   "cell_type": "code",
   "execution_count": 26,
   "metadata": {
    "colab": {
     "base_uri": "https://localhost:8080/",
     "height": 556
    },
    "colab_type": "code",
    "id": "rk_J3nlyb9Zl",
    "outputId": "0d141e79-2073-4937-ed03-1d49ffecad7d"
   },
   "outputs": [
    {
     "data": {
      "image/png": "[encoded data removed]",
      "text/plain": [
       "<Figure size 432x288 with 1 Axes>"
      ]
     },
     "metadata": {
      "tags": []
     },
     "output_type": "display_data"
    },
    {
     "data": {
      "image/png": "[encoded data removed]",
      "text/plain": [
       "<Figure size 432x288 with 1 Axes>"
      ]
     },
     "metadata": {
      "tags": []
     },
     "output_type": "display_data"
    }
   ],
   "source": [
    "plot_graphs(history, 'accuracy')\n",
    "plot_graphs(history, 'loss')"
   ]
  },
  {
   "cell_type": "markdown",
   "metadata": {
    "colab_type": "text",
    "id": "SZBCtEDIcVMK"
   },
   "source": [
    "## Model Definition with Single Layer LSTM"
   ]
  },
  {
   "cell_type": "code",
   "execution_count": 27,
   "metadata": {
    "colab": {
     "base_uri": "https://localhost:8080/",
     "height": 286
    },
    "colab_type": "code",
    "id": "L8--H7jrccS9",
    "outputId": "4441a38c-18a1-49a1-c0e9-9758b1add3d8"
   },
   "outputs": [
    {
     "name": "stdout",
     "output_type": "stream",
     "text": [
      "Model: \"sequential_2\"\n",
      "_________________________________________________________________\n",
      "Layer (type)                 Output Shape              Param #   \n",
      "=================================================================\n",
      "embedding_2 (Embedding)      (None, 120, 32)           320000    \n",
      "_________________________________________________________________\n",
      "bidirectional_1 (Bidirection (None, 128)               49664     \n",
      "_________________________________________________________________\n",
      "dense_4 (Dense)              (None, 6)                 774       \n",
      "_________________________________________________________________\n",
      "dense_5 (Dense)              (None, 1)                 7         \n",
      "=================================================================\n",
      "Total params: 370,445\n",
      "Trainable params: 370,445\n",
      "Non-trainable params: 0\n",
      "_________________________________________________________________\n"
     ]
    }
   ],
   "source": [
    "model = tf.keras.Sequential([\n",
    "    tf.keras.layers.Embedding(vocab_size, embedding_dim, input_length=max_length),\n",
    "    tf.keras.layers.Bidirectional(tf.keras.layers.LSTM(64)),\n",
    "    tf.keras.layers.Dense(6, activation='relu'),\n",
    "    tf.keras.layers.Dense(1, activation='sigmoid')\n",
    "])\n",
    "model.compile(loss='binary_crossentropy',optimizer='adam',metrics=['accuracy'])\n",
    "model.summary()"
   ]
  },
  {
   "cell_type": "code",
   "execution_count": 28,
   "metadata": {
    "colab": {
     "base_uri": "https://localhost:8080/",
     "height": 1000
    },
    "colab_type": "code",
    "id": "pK0YnSTXciRi",
    "outputId": "18390acd-232b-49b7-c36c-868cb472d63d"
   },
   "outputs": [
    {
     "name": "stdout",
     "output_type": "stream",
     "text": [
      "Epoch 1/50\n",
      "1250/1250 [==============================] - 130s 104ms/step - loss: 0.3821 - accuracy: 0.8263 - val_loss: 0.2855 - val_accuracy: 0.8832\n",
      "Epoch 2/50\n",
      "1250/1250 [==============================] - 130s 104ms/step - loss: 0.2553 - accuracy: 0.8991 - val_loss: 0.3183 - val_accuracy: 0.8642\n",
      "Epoch 3/50\n",
      "1250/1250 [==============================] - 131s 104ms/step - loss: 0.1998 - accuracy: 0.9239 - val_loss: 0.2953 - val_accuracy: 0.8779\n",
      "Epoch 4/50\n",
      "1250/1250 [==============================] - 129s 103ms/step - loss: 0.1521 - accuracy: 0.9447 - val_loss: 0.3475 - val_accuracy: 0.8768\n",
      "Epoch 5/50\n",
      "1250/1250 [==============================] - 129s 104ms/step - loss: 0.1168 - accuracy: 0.9583 - val_loss: 0.4506 - val_accuracy: 0.8647\n",
      "Epoch 6/50\n",
      "1250/1250 [==============================] - 131s 105ms/step - loss: 0.0855 - accuracy: 0.9710 - val_loss: 0.4479 - val_accuracy: 0.8639\n",
      "Epoch 7/50\n",
      "1250/1250 [==============================] - 127s 102ms/step - loss: 0.0592 - accuracy: 0.9811 - val_loss: 0.5106 - val_accuracy: 0.8580\n",
      "Epoch 8/50\n",
      "1250/1250 [==============================] - 128s 102ms/step - loss: 0.0458 - accuracy: 0.9847 - val_loss: 0.5695 - val_accuracy: 0.8595\n",
      "Epoch 9/50\n",
      "1250/1250 [==============================] - 128s 102ms/step - loss: 0.0352 - accuracy: 0.9888 - val_loss: 0.6491 - val_accuracy: 0.8523\n",
      "Epoch 10/50\n",
      "1250/1250 [==============================] - 125s 100ms/step - loss: 0.0317 - accuracy: 0.9902 - val_loss: 0.6449 - val_accuracy: 0.8598\n",
      "Epoch 11/50\n",
      "1250/1250 [==============================] - 129s 103ms/step - loss: 0.0201 - accuracy: 0.9938 - val_loss: 0.6990 - val_accuracy: 0.8597\n",
      "Epoch 12/50\n",
      "1250/1250 [==============================] - 128s 103ms/step - loss: 0.0191 - accuracy: 0.9940 - val_loss: 0.7522 - val_accuracy: 0.8555\n",
      "Epoch 13/50\n",
      "1250/1250 [==============================] - 127s 101ms/step - loss: 0.0191 - accuracy: 0.9940 - val_loss: 0.7290 - val_accuracy: 0.8558\n",
      "Epoch 14/50\n",
      "1250/1250 [==============================] - 124s 99ms/step - loss: 0.0144 - accuracy: 0.9956 - val_loss: 0.8399 - val_accuracy: 0.8600\n",
      "Epoch 15/50\n",
      "1250/1250 [==============================] - 124s 99ms/step - loss: 0.0116 - accuracy: 0.9962 - val_loss: 0.8370 - val_accuracy: 0.8611\n",
      "Epoch 16/50\n",
      "1250/1250 [==============================] - 123s 98ms/step - loss: 0.0117 - accuracy: 0.9961 - val_loss: 0.9616 - val_accuracy: 0.8601\n",
      "Epoch 17/50\n",
      "1250/1250 [==============================] - 126s 101ms/step - loss: 0.0087 - accuracy: 0.9975 - val_loss: 0.9581 - val_accuracy: 0.8529\n",
      "Epoch 18/50\n",
      "1250/1250 [==============================] - 125s 100ms/step - loss: 0.0122 - accuracy: 0.9961 - val_loss: 0.8668 - val_accuracy: 0.8505\n",
      "Epoch 19/50\n",
      "1250/1250 [==============================] - 124s 99ms/step - loss: 0.0088 - accuracy: 0.9973 - val_loss: 0.9527 - val_accuracy: 0.8472\n",
      "Epoch 20/50\n",
      "1250/1250 [==============================] - 128s 103ms/step - loss: 0.0070 - accuracy: 0.9977 - val_loss: 0.9687 - val_accuracy: 0.8551\n",
      "Epoch 21/50\n",
      "1250/1250 [==============================] - 129s 103ms/step - loss: 0.0086 - accuracy: 0.9972 - val_loss: 0.9759 - val_accuracy: 0.8551\n",
      "Epoch 22/50\n",
      "1250/1250 [==============================] - 127s 102ms/step - loss: 0.0049 - accuracy: 0.9988 - val_loss: 0.9326 - val_accuracy: 0.8568\n",
      "Epoch 23/50\n",
      "1250/1250 [==============================] - 128s 103ms/step - loss: 0.0093 - accuracy: 0.9972 - val_loss: 0.9507 - val_accuracy: 0.8585\n",
      "Epoch 24/50\n",
      "1250/1250 [==============================] - 131s 105ms/step - loss: 0.0063 - accuracy: 0.9979 - val_loss: 0.9059 - val_accuracy: 0.8571\n",
      "Epoch 25/50\n",
      "1250/1250 [==============================] - 128s 103ms/step - loss: 0.0033 - accuracy: 0.9991 - val_loss: 0.9899 - val_accuracy: 0.8588\n",
      "Epoch 26/50\n",
      "1250/1250 [==============================] - 128s 102ms/step - loss: 0.0071 - accuracy: 0.9975 - val_loss: 0.9295 - val_accuracy: 0.8594\n",
      "Epoch 27/50\n",
      "1250/1250 [==============================] - 125s 100ms/step - loss: 0.0051 - accuracy: 0.9985 - val_loss: 0.9574 - val_accuracy: 0.8613\n",
      "Epoch 28/50\n",
      "1250/1250 [==============================] - 124s 99ms/step - loss: 0.0018 - accuracy: 0.9995 - val_loss: 0.9745 - val_accuracy: 0.8426\n",
      "Epoch 29/50\n",
      "1250/1250 [==============================] - 124s 99ms/step - loss: 0.0049 - accuracy: 0.9987 - val_loss: 1.0430 - val_accuracy: 0.8637\n",
      "Epoch 30/50\n",
      "1250/1250 [==============================] - 125s 100ms/step - loss: 0.0039 - accuracy: 0.9990 - val_loss: 1.0767 - val_accuracy: 0.8578\n",
      "Epoch 31/50\n",
      "1250/1250 [==============================] - 124s 99ms/step - loss: 0.0028 - accuracy: 0.9993 - val_loss: 1.0169 - val_accuracy: 0.8545\n",
      "Epoch 32/50\n",
      "1250/1250 [==============================] - 124s 99ms/step - loss: 0.0036 - accuracy: 0.9987 - val_loss: 1.0986 - val_accuracy: 0.8621\n",
      "Epoch 33/50\n",
      "1250/1250 [==============================] - 129s 103ms/step - loss: 0.0036 - accuracy: 0.9989 - val_loss: 1.0480 - val_accuracy: 0.8568\n",
      "Epoch 34/50\n",
      "1250/1250 [==============================] - 125s 100ms/step - loss: 0.0025 - accuracy: 0.9995 - val_loss: 1.0604 - val_accuracy: 0.8577\n",
      "Epoch 35/50\n",
      "1250/1250 [==============================] - 125s 100ms/step - loss: 0.0039 - accuracy: 0.9987 - val_loss: 1.0733 - val_accuracy: 0.8534\n",
      "Epoch 36/50\n",
      "1250/1250 [==============================] - 126s 101ms/step - loss: 0.0025 - accuracy: 0.9993 - val_loss: 1.0841 - val_accuracy: 0.8478\n",
      "Epoch 37/50\n",
      "1250/1250 [==============================] - 125s 100ms/step - loss: 0.0023 - accuracy: 0.9991 - val_loss: 1.1613 - val_accuracy: 0.8586\n",
      "Epoch 38/50\n",
      "1250/1250 [==============================] - 126s 101ms/step - loss: 0.0032 - accuracy: 0.9991 - val_loss: 1.0784 - val_accuracy: 0.8636\n",
      "Epoch 39/50\n",
      "1250/1250 [==============================] - 125s 100ms/step - loss: 0.0016 - accuracy: 0.9995 - val_loss: 1.1123 - val_accuracy: 0.8553\n",
      "Epoch 40/50\n",
      "1250/1250 [==============================] - 125s 100ms/step - loss: 0.0024 - accuracy: 0.9992 - val_loss: 1.1619 - val_accuracy: 0.8537\n",
      "Epoch 41/50\n",
      "1250/1250 [==============================] - 125s 100ms/step - loss: 0.0039 - accuracy: 0.9988 - val_loss: 1.1256 - val_accuracy: 0.8562\n",
      "Epoch 42/50\n",
      "1250/1250 [==============================] - 125s 100ms/step - loss: 0.0015 - accuracy: 0.9997 - val_loss: 1.2451 - val_accuracy: 0.8525\n",
      "Epoch 43/50\n",
      "1250/1250 [==============================] - 125s 100ms/step - loss: 6.6374e-04 - accuracy: 0.9998 - val_loss: 1.1305 - val_accuracy: 0.8572\n",
      "Epoch 44/50\n",
      "1250/1250 [==============================] - 124s 99ms/step - loss: 4.5119e-05 - accuracy: 1.0000 - val_loss: 1.2109 - val_accuracy: 0.8597\n",
      "Epoch 45/50\n",
      "1250/1250 [==============================] - 124s 99ms/step - loss: 1.0111e-05 - accuracy: 1.0000 - val_loss: 1.2654 - val_accuracy: 0.8624\n",
      "Epoch 46/50\n",
      "1250/1250 [==============================] - 122s 98ms/step - loss: 5.4639e-06 - accuracy: 1.0000 - val_loss: 1.3224 - val_accuracy: 0.8620\n",
      "Epoch 47/50\n",
      "1250/1250 [==============================] - 119s 95ms/step - loss: 3.0116e-06 - accuracy: 1.0000 - val_loss: 1.3851 - val_accuracy: 0.8623\n",
      "Epoch 48/50\n",
      "1250/1250 [==============================] - 121s 97ms/step - loss: 1.6256e-06 - accuracy: 1.0000 - val_loss: 1.4518 - val_accuracy: 0.8624\n",
      "Epoch 49/50\n",
      "1250/1250 [==============================] - 121s 97ms/step - loss: 8.5975e-07 - accuracy: 1.0000 - val_loss: 1.5239 - val_accuracy: 0.8623\n",
      "Epoch 50/50\n",
      "1250/1250 [==============================] - 120s 96ms/step - loss: 4.4822e-07 - accuracy: 1.0000 - val_loss: 1.6012 - val_accuracy: 0.8626\n"
     ]
    }
   ],
   "source": [
    "num_epochs = 50\n",
    "history = model.fit(padded, training_labels_final, epochs=num_epochs, validation_data=(testing_padded, testing_labels_final))"
   ]
  },
  {
   "cell_type": "markdown",
   "metadata": {
    "colab_type": "text",
    "id": "a3wPlIZHcnR0"
   },
   "source": [
    "## Plotting accuracy and loss"
   ]
  },
  {
   "cell_type": "code",
   "execution_count": 29,
   "metadata": {
    "colab": {
     "base_uri": "https://localhost:8080/",
     "height": 541
    },
    "colab_type": "code",
    "id": "tHScy3iAclvP",
    "outputId": "a2e8c917-f086-47ca-a47d-fe9e7acec6f4"
   },
   "outputs": [
    {
     "data": {
      "image/png": "[encoded data removed]",
      "text/plain": [
       "<Figure size 432x288 with 1 Axes>"
      ]
     },
     "metadata": {
      "tags": []
     },
     "output_type": "display_data"
    },
    {
     "data": {
      "image/png": "[encoded data removed]",
      "text/plain": [
       "<Figure size 432x288 with 1 Axes>"
      ]
     },
     "metadata": {
      "tags": []
     },
     "output_type": "display_data"
    }
   ],
   "source": [
    "plot_graphs(history, 'accuracy')\n",
    "plot_graphs(history, 'loss')"
   ]
  },
  {
   "cell_type": "markdown",
   "metadata": {
    "colab_type": "text",
    "id": "eRNQeReqcw5x"
   },
   "source": [
    "## **Model Definition with Multi Layer LSTM**"
   ]
  },
  {
   "cell_type": "code",
   "execution_count": 30,
   "metadata": {
    "colab": {
     "base_uri": "https://localhost:8080/",
     "height": 319
    },
    "colab_type": "code",
    "id": "_y-FrCzLcwRL",
    "outputId": "ed7bd47f-8ebb-4519-852a-ff158a34b7e2"
   },
   "outputs": [
    {
     "name": "stdout",
     "output_type": "stream",
     "text": [
      "Model: \"sequential_3\"\n",
      "_________________________________________________________________\n",
      "Layer (type)                 Output Shape              Param #   \n",
      "=================================================================\n",
      "embedding_3 (Embedding)      (None, 120, 32)           320000    \n",
      "_________________________________________________________________\n",
      "bidirectional_2 (Bidirection (None, 120, 128)          49664     \n",
      "_________________________________________________________________\n",
      "bidirectional_3 (Bidirection (None, 64)                41216     \n",
      "_________________________________________________________________\n",
      "dense_6 (Dense)              (None, 6)                 390       \n",
      "_________________________________________________________________\n",
      "dense_7 (Dense)              (None, 1)                 7         \n",
      "=================================================================\n",
      "Total params: 411,277\n",
      "Trainable params: 411,277\n",
      "Non-trainable params: 0\n",
      "_________________________________________________________________\n"
     ]
    }
   ],
   "source": [
    "model = tf.keras.Sequential([\n",
    "    tf.keras.layers.Embedding(vocab_size, embedding_dim, input_length=max_length),\n",
    "    tf.keras.layers.Bidirectional(tf.keras.layers.LSTM(64,return_sequences=True)),\n",
    "    tf.keras.layers.Bidirectional(tf.keras.layers.LSTM(32)),\n",
    "    tf.keras.layers.Dense(6, activation='relu'),\n",
    "    tf.keras.layers.Dense(1, activation='sigmoid')\n",
    "])\n",
    "model.compile(loss='binary_crossentropy',optimizer='adam',metrics=['accuracy'])\n",
    "model.summary()"
   ]
  },
  {
   "cell_type": "code",
   "execution_count": 31,
   "metadata": {
    "colab": {
     "base_uri": "https://localhost:8080/",
     "height": 1000
    },
    "colab_type": "code",
    "id": "myU5nG8uhSDB",
    "outputId": "733d3137-9c21-4afd-8380-af5edde1317e"
   },
   "outputs": [
    {
     "name": "stdout",
     "output_type": "stream",
     "text": [
      "Epoch 1/50\n",
      "1250/1250 [==============================] - 219s 176ms/step - loss: 0.5990 - accuracy: 0.6838 - val_loss: 0.5584 - val_accuracy: 0.7162\n",
      "Epoch 2/50\n",
      "1250/1250 [==============================] - 217s 174ms/step - loss: 0.4045 - accuracy: 0.8157 - val_loss: 0.3188 - val_accuracy: 0.8622\n",
      "Epoch 3/50\n",
      "1250/1250 [==============================] - 218s 174ms/step - loss: 0.2643 - accuracy: 0.8948 - val_loss: 0.2832 - val_accuracy: 0.8824\n",
      "Epoch 4/50\n",
      "1250/1250 [==============================] - 221s 177ms/step - loss: 0.2071 - accuracy: 0.9228 - val_loss: 0.3030 - val_accuracy: 0.8757\n",
      "Epoch 5/50\n",
      "1250/1250 [==============================] - 236s 189ms/step - loss: 0.1661 - accuracy: 0.9410 - val_loss: 0.3530 - val_accuracy: 0.8690\n",
      "Epoch 6/50\n",
      "1250/1250 [==============================] - 236s 189ms/step - loss: 0.1340 - accuracy: 0.9540 - val_loss: 0.3834 - val_accuracy: 0.8705\n",
      "Epoch 7/50\n",
      "1250/1250 [==============================] - 237s 190ms/step - loss: 0.1019 - accuracy: 0.9663 - val_loss: 0.3897 - val_accuracy: 0.8730\n",
      "Epoch 8/50\n",
      "1250/1250 [==============================] - 234s 188ms/step - loss: 0.0762 - accuracy: 0.9772 - val_loss: 0.4624 - val_accuracy: 0.8649\n",
      "Epoch 9/50\n",
      "1250/1250 [==============================] - 237s 189ms/step - loss: 0.0617 - accuracy: 0.9816 - val_loss: 0.4528 - val_accuracy: 0.8706\n",
      "Epoch 10/50\n",
      "1250/1250 [==============================] - 240s 192ms/step - loss: 0.0467 - accuracy: 0.9874 - val_loss: 0.5399 - val_accuracy: 0.8647\n",
      "Epoch 11/50\n",
      "1250/1250 [==============================] - 240s 192ms/step - loss: 0.0370 - accuracy: 0.9902 - val_loss: 0.5612 - val_accuracy: 0.8655\n",
      "Epoch 12/50\n",
      "1250/1250 [==============================] - 237s 189ms/step - loss: 0.0335 - accuracy: 0.9911 - val_loss: 0.6036 - val_accuracy: 0.8645\n",
      "Epoch 13/50\n",
      "1250/1250 [==============================] - 233s 186ms/step - loss: 0.0287 - accuracy: 0.9929 - val_loss: 0.6374 - val_accuracy: 0.8672\n",
      "Epoch 14/50\n",
      "1250/1250 [==============================] - 218s 174ms/step - loss: 0.0281 - accuracy: 0.9924 - val_loss: 0.6074 - val_accuracy: 0.8643\n",
      "Epoch 15/50\n",
      "1250/1250 [==============================] - 216s 173ms/step - loss: 0.0225 - accuracy: 0.9941 - val_loss: 0.6365 - val_accuracy: 0.8638\n",
      "Epoch 16/50\n",
      "1250/1250 [==============================] - 218s 175ms/step - loss: 0.0199 - accuracy: 0.9946 - val_loss: 0.6859 - val_accuracy: 0.8617\n",
      "Epoch 17/50\n",
      "1250/1250 [==============================] - 217s 174ms/step - loss: 0.0166 - accuracy: 0.9955 - val_loss: 0.6788 - val_accuracy: 0.8607\n",
      "Epoch 18/50\n",
      "1250/1250 [==============================] - 229s 183ms/step - loss: 0.0148 - accuracy: 0.9962 - val_loss: 0.7303 - val_accuracy: 0.8643\n",
      "Epoch 19/50\n",
      "1250/1250 [==============================] - 219s 175ms/step - loss: 0.0135 - accuracy: 0.9959 - val_loss: 0.7674 - val_accuracy: 0.8647\n",
      "Epoch 20/50\n",
      "1250/1250 [==============================] - 223s 179ms/step - loss: 0.0102 - accuracy: 0.9974 - val_loss: 0.8256 - val_accuracy: 0.8559\n",
      "Epoch 21/50\n",
      "1250/1250 [==============================] - 224s 179ms/step - loss: 0.0109 - accuracy: 0.9967 - val_loss: 0.7427 - val_accuracy: 0.8598\n",
      "Epoch 22/50\n",
      "1250/1250 [==============================] - 221s 177ms/step - loss: 0.0105 - accuracy: 0.9969 - val_loss: 0.8045 - val_accuracy: 0.8640\n",
      "Epoch 23/50\n",
      "1250/1250 [==============================] - 224s 179ms/step - loss: 0.0056 - accuracy: 0.9984 - val_loss: 0.9735 - val_accuracy: 0.8569\n",
      "Epoch 24/50\n",
      "1250/1250 [==============================] - 221s 177ms/step - loss: 0.0068 - accuracy: 0.9981 - val_loss: 0.8753 - val_accuracy: 0.8639\n",
      "Epoch 25/50\n",
      "1250/1250 [==============================] - 225s 180ms/step - loss: 0.0070 - accuracy: 0.9979 - val_loss: 0.9028 - val_accuracy: 0.8549\n",
      "Epoch 26/50\n",
      "1250/1250 [==============================] - 223s 178ms/step - loss: 0.0073 - accuracy: 0.9977 - val_loss: 0.9014 - val_accuracy: 0.8599\n",
      "Epoch 27/50\n",
      "1250/1250 [==============================] - 222s 178ms/step - loss: 0.0044 - accuracy: 0.9988 - val_loss: 1.0019 - val_accuracy: 0.8619\n",
      "Epoch 28/50\n",
      "1250/1250 [==============================] - 226s 181ms/step - loss: 0.0047 - accuracy: 0.9984 - val_loss: 1.0558 - val_accuracy: 0.8656\n",
      "Epoch 29/50\n",
      "1250/1250 [==============================] - 242s 193ms/step - loss: 0.0050 - accuracy: 0.9983 - val_loss: 1.0022 - val_accuracy: 0.8599\n",
      "Epoch 30/50\n",
      "1250/1250 [==============================] - 237s 190ms/step - loss: 0.0027 - accuracy: 0.9991 - val_loss: 1.0903 - val_accuracy: 0.8555\n",
      "Epoch 31/50\n",
      "1250/1250 [==============================] - 243s 194ms/step - loss: 0.0049 - accuracy: 0.9985 - val_loss: 0.9445 - val_accuracy: 0.8583\n",
      "Epoch 32/50\n",
      "1250/1250 [==============================] - 238s 190ms/step - loss: 0.0031 - accuracy: 0.9992 - val_loss: 1.0051 - val_accuracy: 0.8596\n",
      "Epoch 33/50\n",
      "1250/1250 [==============================] - 240s 192ms/step - loss: 0.0041 - accuracy: 0.9986 - val_loss: 0.9434 - val_accuracy: 0.8591\n",
      "Epoch 34/50\n",
      "1250/1250 [==============================] - 232s 185ms/step - loss: 0.0017 - accuracy: 0.9995 - val_loss: 1.1790 - val_accuracy: 0.8639\n",
      "Epoch 35/50\n",
      "1250/1250 [==============================] - 228s 182ms/step - loss: 0.0030 - accuracy: 0.9990 - val_loss: 1.0128 - val_accuracy: 0.8602\n",
      "Epoch 36/50\n",
      "1250/1250 [==============================] - 223s 178ms/step - loss: 0.0033 - accuracy: 0.9988 - val_loss: 1.0405 - val_accuracy: 0.8598\n",
      "Epoch 37/50\n",
      "1250/1250 [==============================] - 222s 177ms/step - loss: 0.0029 - accuracy: 0.9990 - val_loss: 1.1007 - val_accuracy: 0.8604\n",
      "Epoch 38/50\n",
      "1250/1250 [==============================] - 220s 176ms/step - loss: 0.0025 - accuracy: 0.9992 - val_loss: 0.9426 - val_accuracy: 0.8631\n",
      "Epoch 39/50\n",
      "1250/1250 [==============================] - 222s 178ms/step - loss: 0.0022 - accuracy: 0.9994 - val_loss: 1.1004 - val_accuracy: 0.8633\n",
      "Epoch 40/50\n",
      "1250/1250 [==============================] - 229s 183ms/step - loss: 0.0023 - accuracy: 0.9993 - val_loss: 1.0331 - val_accuracy: 0.8611\n",
      "Epoch 41/50\n",
      "1250/1250 [==============================] - 250s 200ms/step - loss: 0.0024 - accuracy: 0.9991 - val_loss: 1.1175 - val_accuracy: 0.8604\n",
      "Epoch 42/50\n",
      "1250/1250 [==============================] - 244s 196ms/step - loss: 0.0024 - accuracy: 0.9991 - val_loss: 1.2371 - val_accuracy: 0.8619\n",
      "Epoch 43/50\n",
      "1250/1250 [==============================] - 240s 192ms/step - loss: 0.0024 - accuracy: 0.9993 - val_loss: 1.1744 - val_accuracy: 0.8614\n",
      "Epoch 44/50\n",
      "1250/1250 [==============================] - 240s 192ms/step - loss: 0.0015 - accuracy: 0.9996 - val_loss: 1.0493 - val_accuracy: 0.8625\n",
      "Epoch 45/50\n",
      "1250/1250 [==============================] - 235s 188ms/step - loss: 0.0015 - accuracy: 0.9994 - val_loss: 1.1094 - val_accuracy: 0.8550\n",
      "Epoch 46/50\n",
      "1250/1250 [==============================] - 237s 189ms/step - loss: 0.0012 - accuracy: 0.9997 - val_loss: 1.2360 - val_accuracy: 0.8595\n",
      "Epoch 47/50\n",
      "1250/1250 [==============================] - 239s 191ms/step - loss: 0.0016 - accuracy: 0.9995 - val_loss: 1.1631 - val_accuracy: 0.8592\n",
      "Epoch 48/50\n",
      "1250/1250 [==============================] - 230s 184ms/step - loss: 4.2515e-04 - accuracy: 0.9998 - val_loss: 1.3723 - val_accuracy: 0.8608\n",
      "Epoch 49/50\n",
      "1250/1250 [==============================] - 223s 178ms/step - loss: 6.3972e-06 - accuracy: 1.0000 - val_loss: 1.4533 - val_accuracy: 0.8612\n",
      "Epoch 50/50\n",
      "1250/1250 [==============================] - 222s 177ms/step - loss: 2.2018e-06 - accuracy: 1.0000 - val_loss: 1.5101 - val_accuracy: 0.8612\n"
     ]
    }
   ],
   "source": [
    "num_epochs = 50\n",
    "history = model.fit(padded, training_labels_final, epochs=num_epochs, validation_data=(testing_padded, testing_labels_final))"
   ]
  },
  {
   "cell_type": "markdown",
   "metadata": {
    "colab_type": "text",
    "id": "t7nBzu6OhZJJ"
   },
   "source": [
    "# Plotting accuracy and loss"
   ]
  },
  {
   "cell_type": "code",
   "execution_count": 32,
   "metadata": {
    "colab": {
     "base_uri": "https://localhost:8080/",
     "height": 541
    },
    "colab_type": "code",
    "id": "J-yBdbwahWXM",
    "outputId": "aabf8f17-5681-42bf-e5e0-cfbcd3e480f8"
   },
   "outputs": [
    {
     "data": {
      "image/png": "[encoded data removed]",
      "text/plain": [
       "<Figure size 432x288 with 1 Axes>"
      ]
     },
     "metadata": {
      "tags": []
     },
     "output_type": "display_data"
    },
    {
     "data": {
      "image/png": "[encoded data removed]",
      "text/plain": [
       "<Figure size 432x288 with 1 Axes>"
      ]
     },
     "metadata": {
      "tags": []
     },
     "output_type": "display_data"
    }
   ],
   "source": [
    "plot_graphs(history, 'accuracy')\n",
    "plot_graphs(history, 'loss')"
   ]
  },
  {
   "cell_type": "markdown",
   "metadata": {
    "colab_type": "text",
    "id": "JFJ-7FuQbEPe"
   },
   "source": [
    "# Combining above models to remove over fitting"
   ]
  },
  {
   "cell_type": "code",
   "execution_count": 33,
   "metadata": {
    "colab": {
     "base_uri": "https://localhost:8080/",
     "height": 420
    },
    "colab_type": "code",
    "id": "CFKvLVQbbNCT",
    "outputId": "486c4458-cbaf-440c-d729-36b6034a2053"
   },
   "outputs": [
    {
     "name": "stdout",
     "output_type": "stream",
     "text": [
      "Model: \"sequential_4\"\n",
      "_________________________________________________________________\n",
      "Layer (type)                 Output Shape              Param #   \n",
      "=================================================================\n",
      "embedding_4 (Embedding)      (None, 120, 32)           320000    \n",
      "_________________________________________________________________\n",
      "dropout (Dropout)            (None, 120, 32)           0         \n",
      "_________________________________________________________________\n",
      "conv1d_1 (Conv1D)            (None, 116, 128)          20608     \n",
      "_________________________________________________________________\n",
      "max_pooling1d (MaxPooling1D) (None, 29, 128)           0         \n",
      "_________________________________________________________________\n",
      "bidirectional_4 (Bidirection (None, 29, 128)           98816     \n",
      "_________________________________________________________________\n",
      "bidirectional_5 (Bidirection (None, 64)                41216     \n",
      "_________________________________________________________________\n",
      "dense_8 (Dense)              (None, 6)                 390       \n",
      "_________________________________________________________________\n",
      "dense_9 (Dense)              (None, 1)                 7         \n",
      "=================================================================\n",
      "Total params: 481,037\n",
      "Trainable params: 481,037\n",
      "Non-trainable params: 0\n",
      "_________________________________________________________________\n"
     ]
    }
   ],
   "source": [
    "model = tf.keras.Sequential([\n",
    "    tf.keras.layers.Embedding(vocab_size, embedding_dim, input_length=max_length),\n",
    "    tf.keras.layers.Dropout(0.2),\n",
    "    tf.keras.layers.Conv1D(128, 5, activation='relu'),\n",
    "    tf.keras.layers.MaxPooling1D(pool_size=4),\n",
    "    tf.keras.layers.Bidirectional(tf.keras.layers.LSTM(64,return_sequences=True)),\n",
    "    tf.keras.layers.Bidirectional(tf.keras.layers.LSTM(32)),\n",
    "    tf.keras.layers.Dense(6, activation='relu'),\n",
    "    tf.keras.layers.Dense(1, activation='sigmoid')\n",
    "])\n",
    "model.compile(loss='binary_crossentropy',optimizer='adam',metrics=['accuracy'])\n",
    "model.summary()"
   ]
  },
  {
   "cell_type": "code",
   "execution_count": 34,
   "metadata": {
    "colab": {
     "base_uri": "https://localhost:8080/",
     "height": 1000
    },
    "colab_type": "code",
    "id": "bvFs9DWsjBIz",
    "outputId": "38665484-b6b8-44f3-b63b-a9785d78374a"
   },
   "outputs": [
    {
     "name": "stdout",
     "output_type": "stream",
     "text": [
      "Epoch 1/50\n",
      "1250/1250 [==============================] - 99s 79ms/step - loss: 0.3653 - accuracy: 0.8328 - val_loss: 0.2903 - val_accuracy: 0.8808\n",
      "Epoch 2/50\n",
      "1250/1250 [==============================] - 99s 79ms/step - loss: 0.2350 - accuracy: 0.9061 - val_loss: 0.3119 - val_accuracy: 0.8677\n",
      "Epoch 3/50\n",
      "1250/1250 [==============================] - 102s 81ms/step - loss: 0.1733 - accuracy: 0.9354 - val_loss: 0.2770 - val_accuracy: 0.8837\n",
      "Epoch 4/50\n",
      "1250/1250 [==============================] - 98s 79ms/step - loss: 0.1220 - accuracy: 0.9561 - val_loss: 0.3346 - val_accuracy: 0.8774\n",
      "Epoch 5/50\n",
      "1250/1250 [==============================] - 99s 79ms/step - loss: 0.0800 - accuracy: 0.9725 - val_loss: 0.3664 - val_accuracy: 0.8801\n",
      "Epoch 6/50\n",
      "1250/1250 [==============================] - 97s 78ms/step - loss: 0.0572 - accuracy: 0.9805 - val_loss: 0.4691 - val_accuracy: 0.8799\n",
      "Epoch 7/50\n",
      "1250/1250 [==============================] - 98s 78ms/step - loss: 0.0464 - accuracy: 0.9840 - val_loss: 0.5321 - val_accuracy: 0.8775\n",
      "Epoch 8/50\n",
      "1250/1250 [==============================] - 99s 80ms/step - loss: 0.0388 - accuracy: 0.9862 - val_loss: 0.4913 - val_accuracy: 0.8705\n",
      "Epoch 9/50\n",
      "1250/1250 [==============================] - 104s 84ms/step - loss: 0.0343 - accuracy: 0.9883 - val_loss: 0.4819 - val_accuracy: 0.8746\n",
      "Epoch 10/50\n",
      "1250/1250 [==============================] - 99s 79ms/step - loss: 0.0282 - accuracy: 0.9908 - val_loss: 0.6036 - val_accuracy: 0.8752\n",
      "Epoch 11/50\n",
      "1250/1250 [==============================] - 97s 78ms/step - loss: 0.0253 - accuracy: 0.9914 - val_loss: 0.5330 - val_accuracy: 0.8682\n",
      "Epoch 12/50\n",
      "1250/1250 [==============================] - 98s 78ms/step - loss: 0.0222 - accuracy: 0.9925 - val_loss: 0.6955 - val_accuracy: 0.8667\n",
      "Epoch 13/50\n",
      "1250/1250 [==============================] - 97s 78ms/step - loss: 0.0190 - accuracy: 0.9934 - val_loss: 0.6019 - val_accuracy: 0.8718\n",
      "Epoch 14/50\n",
      "1250/1250 [==============================] - 99s 79ms/step - loss: 0.0210 - accuracy: 0.9923 - val_loss: 0.5817 - val_accuracy: 0.8734\n",
      "Epoch 15/50\n",
      "1250/1250 [==============================] - 105s 84ms/step - loss: 0.0176 - accuracy: 0.9938 - val_loss: 0.6618 - val_accuracy: 0.8750\n",
      "Epoch 16/50\n",
      "1250/1250 [==============================] - 101s 81ms/step - loss: 0.0148 - accuracy: 0.9951 - val_loss: 0.7402 - val_accuracy: 0.8757\n",
      "Epoch 17/50\n",
      "1250/1250 [==============================] - 103s 83ms/step - loss: 0.0135 - accuracy: 0.9955 - val_loss: 0.5960 - val_accuracy: 0.8751\n",
      "Epoch 18/50\n",
      "1250/1250 [==============================] - 97s 77ms/step - loss: 0.0131 - accuracy: 0.9954 - val_loss: 0.9012 - val_accuracy: 0.8639\n",
      "Epoch 19/50\n",
      "1250/1250 [==============================] - 99s 79ms/step - loss: 0.0124 - accuracy: 0.9958 - val_loss: 0.7362 - val_accuracy: 0.8757\n",
      "Epoch 20/50\n",
      "1250/1250 [==============================] - 97s 78ms/step - loss: 0.0135 - accuracy: 0.9951 - val_loss: 0.7911 - val_accuracy: 0.8750\n",
      "Epoch 21/50\n",
      "1250/1250 [==============================] - 97s 78ms/step - loss: 0.0133 - accuracy: 0.9950 - val_loss: 0.7026 - val_accuracy: 0.8740\n",
      "Epoch 22/50\n",
      "1250/1250 [==============================] - 103s 82ms/step - loss: 0.0116 - accuracy: 0.9962 - val_loss: 0.8387 - val_accuracy: 0.8745\n",
      "Epoch 23/50\n",
      "1250/1250 [==============================] - 97s 78ms/step - loss: 0.0097 - accuracy: 0.9969 - val_loss: 0.7114 - val_accuracy: 0.8761\n",
      "Epoch 24/50\n",
      "1250/1250 [==============================] - 100s 80ms/step - loss: 0.0105 - accuracy: 0.9963 - val_loss: 0.7529 - val_accuracy: 0.8750\n",
      "Epoch 25/50\n",
      "1250/1250 [==============================] - 99s 79ms/step - loss: 0.0092 - accuracy: 0.9966 - val_loss: 0.7990 - val_accuracy: 0.8731\n",
      "Epoch 26/50\n",
      "1250/1250 [==============================] - 98s 79ms/step - loss: 0.0091 - accuracy: 0.9970 - val_loss: 0.7766 - val_accuracy: 0.8743\n",
      "Epoch 27/50\n",
      "1250/1250 [==============================] - 99s 79ms/step - loss: 0.0092 - accuracy: 0.9967 - val_loss: 0.6890 - val_accuracy: 0.8704\n",
      "Epoch 28/50\n",
      "1250/1250 [==============================] - 102s 81ms/step - loss: 0.0079 - accuracy: 0.9974 - val_loss: 0.6261 - val_accuracy: 0.8709\n",
      "Epoch 29/50\n",
      "1250/1250 [==============================] - 99s 79ms/step - loss: 0.0071 - accuracy: 0.9977 - val_loss: 0.7772 - val_accuracy: 0.8721\n",
      "Epoch 30/50\n",
      "1250/1250 [==============================] - 99s 79ms/step - loss: 0.0081 - accuracy: 0.9969 - val_loss: 1.0587 - val_accuracy: 0.8657\n",
      "Epoch 31/50\n",
      "1250/1250 [==============================] - 99s 79ms/step - loss: 0.0075 - accuracy: 0.9975 - val_loss: 0.7547 - val_accuracy: 0.8722\n",
      "Epoch 32/50\n",
      "1250/1250 [==============================] - 102s 82ms/step - loss: 0.0080 - accuracy: 0.9971 - val_loss: 0.7490 - val_accuracy: 0.8704\n",
      "Epoch 33/50\n",
      "1250/1250 [==============================] - 104s 83ms/step - loss: 0.0064 - accuracy: 0.9976 - val_loss: 0.9261 - val_accuracy: 0.8749\n",
      "Epoch 34/50\n",
      "1250/1250 [==============================] - 106s 85ms/step - loss: 0.0063 - accuracy: 0.9978 - val_loss: 0.9270 - val_accuracy: 0.8711\n",
      "Epoch 35/50\n",
      "1250/1250 [==============================] - 103s 82ms/step - loss: 0.0078 - accuracy: 0.9973 - val_loss: 0.9293 - val_accuracy: 0.8734\n",
      "Epoch 36/50\n",
      "1250/1250 [==============================] - 101s 80ms/step - loss: 0.0062 - accuracy: 0.9978 - val_loss: 0.9405 - val_accuracy: 0.8728\n",
      "Epoch 37/50\n",
      "1250/1250 [==============================] - 101s 81ms/step - loss: 0.0063 - accuracy: 0.9979 - val_loss: 0.8289 - val_accuracy: 0.8760\n",
      "Epoch 38/50\n",
      "1250/1250 [==============================] - 104s 83ms/step - loss: 0.0060 - accuracy: 0.9978 - val_loss: 0.8588 - val_accuracy: 0.8693\n",
      "Epoch 39/50\n",
      "1250/1250 [==============================] - 101s 81ms/step - loss: 0.0062 - accuracy: 0.9979 - val_loss: 0.7544 - val_accuracy: 0.8753\n",
      "Epoch 40/50\n",
      "1250/1250 [==============================] - 107s 86ms/step - loss: 0.0059 - accuracy: 0.9980 - val_loss: 0.8613 - val_accuracy: 0.8723\n",
      "Epoch 41/50\n",
      "1250/1250 [==============================] - 104s 83ms/step - loss: 0.0055 - accuracy: 0.9983 - val_loss: 0.8445 - val_accuracy: 0.8641\n",
      "Epoch 42/50\n",
      "1250/1250 [==============================] - 99s 79ms/step - loss: 0.0045 - accuracy: 0.9985 - val_loss: 0.8911 - val_accuracy: 0.8742\n",
      "Epoch 43/50\n",
      "1250/1250 [==============================] - 101s 81ms/step - loss: 0.0063 - accuracy: 0.9978 - val_loss: 0.8304 - val_accuracy: 0.8755\n",
      "Epoch 44/50\n",
      "1250/1250 [==============================] - 100s 80ms/step - loss: 0.0046 - accuracy: 0.9985 - val_loss: 0.8979 - val_accuracy: 0.8764\n",
      "Epoch 45/50\n",
      "1250/1250 [==============================] - 102s 82ms/step - loss: 0.0058 - accuracy: 0.9979 - val_loss: 0.8429 - val_accuracy: 0.8717\n",
      "Epoch 46/50\n",
      "1250/1250 [==============================] - 104s 83ms/step - loss: 0.0049 - accuracy: 0.9981 - val_loss: 0.9835 - val_accuracy: 0.8719\n",
      "Epoch 47/50\n",
      "1250/1250 [==============================] - 104s 83ms/step - loss: 0.0048 - accuracy: 0.9984 - val_loss: 0.8942 - val_accuracy: 0.8711\n",
      "Epoch 48/50\n",
      "1250/1250 [==============================] - 102s 81ms/step - loss: 0.0038 - accuracy: 0.9987 - val_loss: 0.9445 - val_accuracy: 0.8690\n",
      "Epoch 49/50\n",
      "1250/1250 [==============================] - 104s 83ms/step - loss: 0.0054 - accuracy: 0.9981 - val_loss: 0.9801 - val_accuracy: 0.8714\n",
      "Epoch 50/50\n",
      "1250/1250 [==============================] - 105s 84ms/step - loss: 0.0045 - accuracy: 0.9986 - val_loss: 0.7702 - val_accuracy: 0.8722\n"
     ]
    }
   ],
   "source": [
    "num_epochs = 50\n",
    "history = model.fit(padded, training_labels_final, epochs=num_epochs, validation_data=(testing_padded, testing_labels_final))"
   ]
  },
  {
   "cell_type": "markdown",
   "metadata": {
    "colab_type": "text",
    "id": "y3bdECeujG7w"
   },
   "source": [
    "# Plotting accuracy and loss"
   ]
  },
  {
   "cell_type": "code",
   "execution_count": 35,
   "metadata": {
    "colab": {
     "base_uri": "https://localhost:8080/",
     "height": 541
    },
    "colab_type": "code",
    "id": "ADjGmfWmjHfg",
    "outputId": "1bf050fd-0586-46db-bab1-3561f33d39c2"
   },
   "outputs": [
    {
     "data": {
      "image/png": "[encoded data removed]",
      "text/plain": [
       "<Figure size 432x288 with 1 Axes>"
      ]
     },
     "metadata": {
      "tags": []
     },
     "output_type": "display_data"
    },
    {
     "data": {
      "image/png": "[encoded data removed]",
      "text/plain": [
       "<Figure size 432x288 with 1 Axes>"
      ]
     },
     "metadata": {
      "tags": []
     },
     "output_type": "display_data"
    }
   ],
   "source": [
    "plot_graphs(history, 'accuracy')\n",
    "plot_graphs(history, 'loss')"
   ]
  }
 ],
 "metadata": {
  "colab": {
   "collapsed_sections": [],
   "name": "Sentiment analysis",
   "provenance": []
  },
  "kernelspec": {
   "display_name": "Python 3",
   "language": "python",
   "name": "python3"
  },
  "language_info": {
   "codemirror_mode": {
    "name": "ipython",
    "version": 3
   },
   "file_extension": ".py",
   "mimetype": "text/x-python",
   "name": "python",
   "nbconvert_exporter": "python",
   "pygments_lexer": "ipython3",
   "version": "3.7.6"
  }
 },
 "nbformat": 4,
 "nbformat_minor": 1
}
